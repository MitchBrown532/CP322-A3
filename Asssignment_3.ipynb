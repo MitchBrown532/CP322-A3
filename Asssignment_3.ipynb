{
  "cells": [
    {
      "cell_type": "markdown",
      "id": "ec50acf3",
      "metadata": {
        "id": "ec50acf3"
      },
      "source": [
        "# <center><u> CP322: Assignment 3 – Winter 2023 </u> </center>\n",
        "# <center><u>  Due on  March 09, 2023 (Before 11:59 PM) </u> </center>\n",
        " \n",
        " This is a **group (of 2)** assignment, and we will practice the concepts to build classification and regression models etc. There are two parts to this assingment.\n",
        " \n",
        " For this assignment, you must use Python language. You will use this jupyter notebook to write your code without errors. If your code will not run, then you will score zero. Therefore, ensure you have removed all syntax errors from your code and not changing the variable names. Gradescope platform would be used to upload the assignments for grading and autograded question's feedback will be visible to you. The link to the Gradescope assignment is available on Myls course page. \n",
        " \n",
        " For submission, drag and drop your code file(s) into Gradescope and add your partner's name. Make sure that your file name should be as suggested in the assignment, using a different name may score zero.\n",
        " \n",
        " - Please note that the submitted code will be checked for plagiarism. By submitting this zip file, you would confirm that you have not received unauthorized assistance in preparing the assignment. You also confirm that you are aware of course policies for submitted work. \n",
        " \n",
        " - Marks will be deducted from any questions where these requirements are not met.\n",
        " \n",
        " - Multiple attempts will be allowed, and only your last submission before the deadline will be graded. Instructor reserves the right to take off points for not following the directions.\n",
        " \n",
        "<b>Warning:</b> Follow the assignment instructions to the letter in terms of the variable names and function names, as this assignment will be auto-graded except few written type questions. \n",
        "\n",
        "**Important Points**:\n",
        "\n",
        "- For each question in the assignment, please write down your answer in the answer cell(s) right below the question. \n",
        "- It is helpful to have extra cells breaking down the process towards reaching your final answer. If you happen to create new cells below your answer to run codes, **NEVER** add cells between a question cell and the answer cell below it. It will cause errors when autograder run.\n",
        "- Finally, unless it is stated otherwise, try to avoid using python for loops or list comprehensions.  The majority of this part of assignment can be done using builtin commands in Pandas, numpy, searborn, matplotlib, and sklearn functions.  \n",
        "- **Partners.** You may work with one other partner; **Only one person is required to submit to the assignment. On Gradescope, the person who submits *must* also designate their partner so that both of you receive credit.** Once you submit, click into your submission, and there will be an option to Add Group Member in the top right corner. Make sure to **re-add your partner every time you make a new submission**, as Gradescope does not save partner information.\n",
        "\n",
        "- **Rules.** Don't share your code with anybody but your partner. You are welcome to discuss questions with other students, but don't share the answers. The experience of solving the problems in this project will prepare you for exams (and life). If someone asks you for the answer, resist! Instead, you can demonstrate how you would solve a similar problem.\n",
        "\n",
        "- **Tests.** The tests that are given are **not comprehensive** and passing the tests for a question **does not** mean that you answered the question correctly. However, more tests will be applied to verify the correctness of your submission in order to assign your final score, so be careful and check your work! You might want to create your own checks along the way to see if your answers make sense. Additionally, before you submit, make sure that none of your cells take a very long time to run (several minutes). Always it is good to re-run your assignment cells before submission. \n",
        "\n",
        "- **Free Response/written Questions.** Make sure that you put the answers to the written questions in the indicated cell we provide. **Every free response question should include an explanation** that adequately answers the question. The written questions will be manually graded on Gradescope.\n",
        "\n",
        "**Advice.** Develop your answers incrementally. To perform a complicated task, break it up into steps, perform each step on a different line, give a new name to each result, and check that each intermediate result is what you expect. You can add any additional names or functions you want to the provided cells. Make sure that you are using distinct and meaningful variable names throughout the notebook. Along that line, **DO NOT** reuse the variable names that we use when we grade your answers. \n",
        "\n",
        "To get started, load the required packages. Make sure to also run the first cell of this notebook to load `otter`."
      ]
    },
    {
      "cell_type": "code",
      "execution_count": 2,
      "id": "kLXyd2H5-7jV",
      "metadata": {
        "colab": {
          "base_uri": "https://localhost:8080/"
        },
        "id": "kLXyd2H5-7jV",
        "outputId": "8742cf76-b248-423b-8268-d725405c67fe"
      },
      "outputs": [],
      "source": [
        "#pip install otter-grader"
      ]
    },
    {
      "cell_type": "markdown",
      "id": "a47fe3be",
      "metadata": {
        "id": "a47fe3be"
      },
      "source": [
        "# Part 1: Handmade Classifier\n",
        "\n",
        " In this part, you will fit a classification model that guesses whether a movie is a comedy or a thriller by using only the number of times chosen words appear in the movie's screenplay. you will fit a class of classification algorithm to make predictions. \n"
      ]
    },
    {
      "cell_type": "code",
      "execution_count": 152,
      "id": "3c22dfe3",
      "metadata": {
        "execution": {
          "iopub.execute_input": "2022-04-16T06:01:56.045203Z",
          "iopub.status.busy": "2022-04-16T06:01:56.044513Z",
          "iopub.status.idle": "2022-04-16T06:01:57.535906Z",
          "shell.execute_reply": "2022-04-16T06:01:57.535091Z"
        },
        "id": "3c22dfe3",
        "scrolled": true
      },
      "outputs": [],
      "source": [
        "# Run this cell to suppress all FutureWarnings\n",
        "import warnings\n",
        "warnings.filterwarnings(\"ignore\", category=FutureWarning)\n",
        "\n",
        "# for data manipulation\n",
        "import pandas as pd, numpy as np, random\n",
        "\n",
        "#for graphs\n",
        "import matplotlib.pyplot as plt\n",
        "import seaborn as sns\n",
        "%matplotlib inline\n",
        "\n",
        "#models to run\n",
        "from sklearn.linear_model import LinearRegression\n",
        "from sklearn.tree import DecisionTreeClassifier\n",
        "from sklearn import preprocessing\n",
        "from sklearn import neighbors\n",
        "from sklearn import tree\n",
        "\n",
        "#train_test_split\n",
        "from sklearn.model_selection import train_test_split,StratifiedShuffleSplit, GridSearchCV\n",
        "\n",
        "#for cycle\n",
        "from itertools import cycle\n",
        "\n",
        "#metrics\n",
        "from sklearn import metrics\n",
        "from sklearn.metrics import confusion_matrix, classification_report, precision_score, recall_score, f1_score, r2_score, accuracy_score, roc_auc_score\n",
        "from sklearn.model_selection import cross_val_score, KFold\n",
        "from sklearn.ensemble import RandomForestClassifier\n",
        "from sklearn.neighbors import KNeighborsClassifier\n",
        "from sklearn.model_selection import train_test_split, GridSearchCV\n",
        "\n",
        "RANDOM_STATE = 42\n",
        "random.seed(RANDOM_STATE)\n",
        "\n",
        "import otter\n",
        "grader = otter.Notebook()"
      ]
    },
    {
      "cell_type": "markdown",
      "id": "1a2aed44",
      "metadata": {
        "id": "1a2aed44"
      },
      "source": [
        "### Dataset Loading\n",
        "\n",
        "Here, we are exploring movie screenplays. We'll be trying to predict each movie's genre from the text of its screenplay. In particular, we have compiled a list of 5,000 words that occur in conversations between movie characters. For each movie, our dataset tells us the frequency with which each of these words occurs in certain conversations in its screenplay. All words have been converted to lowercase.\n",
        "\n",
        "Run the cell below to read the `movies` table. **It may take up to a minute to load.**"
      ]
    },
    {
      "cell_type": "code",
      "execution_count": 153,
      "id": "12414dbf",
      "metadata": {
        "colab": {
          "base_uri": "https://localhost:8080/",
          "height": 696
        },
        "id": "12414dbf",
        "outputId": "4b4bf44c-daef-4ae3-a872-8bb5180c2ebd"
      },
      "outputs": [
        {
          "data": {
            "text/html": [
              "<div>\n",
              "<style scoped>\n",
              "    .dataframe tbody tr th:only-of-type {\n",
              "        vertical-align: middle;\n",
              "    }\n",
              "\n",
              "    .dataframe tbody tr th {\n",
              "        vertical-align: top;\n",
              "    }\n",
              "\n",
              "    .dataframe thead th {\n",
              "        text-align: right;\n",
              "    }\n",
              "</style>\n",
              "<table border=\"1\" class=\"dataframe\">\n",
              "  <thead>\n",
              "    <tr style=\"text-align: right;\">\n",
              "      <th></th>\n",
              "      <th>Title</th>\n",
              "      <th>Year</th>\n",
              "      <th>Rating</th>\n",
              "      <th>Genre</th>\n",
              "      <th># Words</th>\n",
              "      <th>she</th>\n",
              "      <th>decid</th>\n",
              "      <th>talk</th>\n",
              "      <th>wit</th>\n",
              "      <th>razor</th>\n",
              "      <th>...</th>\n",
              "      <th>eight</th>\n",
              "      <th>morgu</th>\n",
              "      <th>comin</th>\n",
              "      <th>style</th>\n",
              "      <th>cadet</th>\n",
              "      <th>uh</th>\n",
              "      <th>uhuh</th>\n",
              "      <th>earn</th>\n",
              "      <th>tini</th>\n",
              "      <th>volunt</th>\n",
              "    </tr>\n",
              "  </thead>\n",
              "  <tbody>\n",
              "    <tr>\n",
              "      <th>0</th>\n",
              "      <td>10 things i hate about you</td>\n",
              "      <td>1999</td>\n",
              "      <td>6.9</td>\n",
              "      <td>comedy</td>\n",
              "      <td>5341</td>\n",
              "      <td>0.006167</td>\n",
              "      <td>0.000597</td>\n",
              "      <td>0.001591</td>\n",
              "      <td>0.000199</td>\n",
              "      <td>0.0</td>\n",
              "      <td>...</td>\n",
              "      <td>0.000000</td>\n",
              "      <td>0.000000</td>\n",
              "      <td>0.000000</td>\n",
              "      <td>0.000000</td>\n",
              "      <td>0.0</td>\n",
              "      <td>0.000597</td>\n",
              "      <td>0.0</td>\n",
              "      <td>0.000000</td>\n",
              "      <td>0.0</td>\n",
              "      <td>0.0</td>\n",
              "    </tr>\n",
              "    <tr>\n",
              "      <th>1</th>\n",
              "      <td>sister act</td>\n",
              "      <td>1992</td>\n",
              "      <td>5.9</td>\n",
              "      <td>comedy</td>\n",
              "      <td>7401</td>\n",
              "      <td>0.009293</td>\n",
              "      <td>0.000000</td>\n",
              "      <td>0.001971</td>\n",
              "      <td>0.000563</td>\n",
              "      <td>0.0</td>\n",
              "      <td>...</td>\n",
              "      <td>0.000000</td>\n",
              "      <td>0.000000</td>\n",
              "      <td>0.000000</td>\n",
              "      <td>0.000141</td>\n",
              "      <td>0.0</td>\n",
              "      <td>0.000000</td>\n",
              "      <td>0.0</td>\n",
              "      <td>0.000000</td>\n",
              "      <td>0.0</td>\n",
              "      <td>0.0</td>\n",
              "    </tr>\n",
              "    <tr>\n",
              "      <th>2</th>\n",
              "      <td>the boondock saints</td>\n",
              "      <td>1999</td>\n",
              "      <td>7.8</td>\n",
              "      <td>thriller</td>\n",
              "      <td>5705</td>\n",
              "      <td>0.002246</td>\n",
              "      <td>0.000561</td>\n",
              "      <td>0.002433</td>\n",
              "      <td>0.000374</td>\n",
              "      <td>0.0</td>\n",
              "      <td>...</td>\n",
              "      <td>0.000749</td>\n",
              "      <td>0.000000</td>\n",
              "      <td>0.000374</td>\n",
              "      <td>0.000000</td>\n",
              "      <td>0.0</td>\n",
              "      <td>0.001310</td>\n",
              "      <td>0.0</td>\n",
              "      <td>0.000187</td>\n",
              "      <td>0.0</td>\n",
              "      <td>0.0</td>\n",
              "    </tr>\n",
              "    <tr>\n",
              "      <th>3</th>\n",
              "      <td>mystery men</td>\n",
              "      <td>1999</td>\n",
              "      <td>5.9</td>\n",
              "      <td>comedy</td>\n",
              "      <td>3144</td>\n",
              "      <td>0.003308</td>\n",
              "      <td>0.000000</td>\n",
              "      <td>0.001985</td>\n",
              "      <td>0.000000</td>\n",
              "      <td>0.0</td>\n",
              "      <td>...</td>\n",
              "      <td>0.000331</td>\n",
              "      <td>0.000000</td>\n",
              "      <td>0.000000</td>\n",
              "      <td>0.000662</td>\n",
              "      <td>0.0</td>\n",
              "      <td>0.000662</td>\n",
              "      <td>0.0</td>\n",
              "      <td>0.000000</td>\n",
              "      <td>0.0</td>\n",
              "      <td>0.0</td>\n",
              "    </tr>\n",
              "    <tr>\n",
              "      <th>4</th>\n",
              "      <td>blade</td>\n",
              "      <td>1998</td>\n",
              "      <td>7.0</td>\n",
              "      <td>thriller</td>\n",
              "      <td>2886</td>\n",
              "      <td>0.001098</td>\n",
              "      <td>0.000000</td>\n",
              "      <td>0.001098</td>\n",
              "      <td>0.000000</td>\n",
              "      <td>0.0</td>\n",
              "      <td>...</td>\n",
              "      <td>0.000000</td>\n",
              "      <td>0.000366</td>\n",
              "      <td>0.000000</td>\n",
              "      <td>0.000000</td>\n",
              "      <td>0.0</td>\n",
              "      <td>0.000000</td>\n",
              "      <td>0.0</td>\n",
              "      <td>0.000000</td>\n",
              "      <td>0.0</td>\n",
              "      <td>0.0</td>\n",
              "    </tr>\n",
              "    <tr>\n",
              "      <th>...</th>\n",
              "      <td>...</td>\n",
              "      <td>...</td>\n",
              "      <td>...</td>\n",
              "      <td>...</td>\n",
              "      <td>...</td>\n",
              "      <td>...</td>\n",
              "      <td>...</td>\n",
              "      <td>...</td>\n",
              "      <td>...</td>\n",
              "      <td>...</td>\n",
              "      <td>...</td>\n",
              "      <td>...</td>\n",
              "      <td>...</td>\n",
              "      <td>...</td>\n",
              "      <td>...</td>\n",
              "      <td>...</td>\n",
              "      <td>...</td>\n",
              "      <td>...</td>\n",
              "      <td>...</td>\n",
              "      <td>...</td>\n",
              "      <td>...</td>\n",
              "    </tr>\n",
              "    <tr>\n",
              "      <th>328</th>\n",
              "      <td>storytelling</td>\n",
              "      <td>2001</td>\n",
              "      <td>6.7</td>\n",
              "      <td>comedy</td>\n",
              "      <td>3337</td>\n",
              "      <td>0.000947</td>\n",
              "      <td>0.000000</td>\n",
              "      <td>0.002840</td>\n",
              "      <td>0.000000</td>\n",
              "      <td>0.0</td>\n",
              "      <td>...</td>\n",
              "      <td>0.000631</td>\n",
              "      <td>0.000000</td>\n",
              "      <td>0.000000</td>\n",
              "      <td>0.000000</td>\n",
              "      <td>0.0</td>\n",
              "      <td>0.001578</td>\n",
              "      <td>0.0</td>\n",
              "      <td>0.000000</td>\n",
              "      <td>0.0</td>\n",
              "      <td>0.0</td>\n",
              "    </tr>\n",
              "    <tr>\n",
              "      <th>329</th>\n",
              "      <td>halloween h20: 20 years later</td>\n",
              "      <td>1998</td>\n",
              "      <td>5.4</td>\n",
              "      <td>thriller</td>\n",
              "      <td>1808</td>\n",
              "      <td>0.003497</td>\n",
              "      <td>0.000000</td>\n",
              "      <td>0.001748</td>\n",
              "      <td>0.000000</td>\n",
              "      <td>0.0</td>\n",
              "      <td>...</td>\n",
              "      <td>0.000000</td>\n",
              "      <td>0.000000</td>\n",
              "      <td>0.000000</td>\n",
              "      <td>0.000000</td>\n",
              "      <td>0.0</td>\n",
              "      <td>0.000000</td>\n",
              "      <td>0.0</td>\n",
              "      <td>0.000000</td>\n",
              "      <td>0.0</td>\n",
              "      <td>0.0</td>\n",
              "    </tr>\n",
              "    <tr>\n",
              "      <th>330</th>\n",
              "      <td>gone in sixty seconds</td>\n",
              "      <td>2000</td>\n",
              "      <td>6.0</td>\n",
              "      <td>thriller</td>\n",
              "      <td>5644</td>\n",
              "      <td>0.003217</td>\n",
              "      <td>0.000000</td>\n",
              "      <td>0.000757</td>\n",
              "      <td>0.000000</td>\n",
              "      <td>0.0</td>\n",
              "      <td>...</td>\n",
              "      <td>0.000000</td>\n",
              "      <td>0.000000</td>\n",
              "      <td>0.000000</td>\n",
              "      <td>0.000189</td>\n",
              "      <td>0.0</td>\n",
              "      <td>0.000189</td>\n",
              "      <td>0.0</td>\n",
              "      <td>0.000000</td>\n",
              "      <td>0.0</td>\n",
              "      <td>0.0</td>\n",
              "    </tr>\n",
              "    <tr>\n",
              "      <th>331</th>\n",
              "      <td>the butterfly effect</td>\n",
              "      <td>2004</td>\n",
              "      <td>7.8</td>\n",
              "      <td>thriller</td>\n",
              "      <td>4950</td>\n",
              "      <td>0.000635</td>\n",
              "      <td>0.000000</td>\n",
              "      <td>0.001058</td>\n",
              "      <td>0.000000</td>\n",
              "      <td>0.0</td>\n",
              "      <td>...</td>\n",
              "      <td>0.000212</td>\n",
              "      <td>0.000000</td>\n",
              "      <td>0.000000</td>\n",
              "      <td>0.000000</td>\n",
              "      <td>0.0</td>\n",
              "      <td>0.000635</td>\n",
              "      <td>0.0</td>\n",
              "      <td>0.000000</td>\n",
              "      <td>0.0</td>\n",
              "      <td>0.0</td>\n",
              "    </tr>\n",
              "    <tr>\n",
              "      <th>332</th>\n",
              "      <td>edtv</td>\n",
              "      <td>1999</td>\n",
              "      <td>6.1</td>\n",
              "      <td>comedy</td>\n",
              "      <td>5933</td>\n",
              "      <td>0.008303</td>\n",
              "      <td>0.000346</td>\n",
              "      <td>0.002249</td>\n",
              "      <td>0.000000</td>\n",
              "      <td>0.0</td>\n",
              "      <td>...</td>\n",
              "      <td>0.000000</td>\n",
              "      <td>0.000000</td>\n",
              "      <td>0.000000</td>\n",
              "      <td>0.000000</td>\n",
              "      <td>0.0</td>\n",
              "      <td>0.001384</td>\n",
              "      <td>0.0</td>\n",
              "      <td>0.000000</td>\n",
              "      <td>0.0</td>\n",
              "      <td>0.0</td>\n",
              "    </tr>\n",
              "  </tbody>\n",
              "</table>\n",
              "<p>333 rows × 5005 columns</p>\n",
              "</div>"
            ],
            "text/plain": [
              "                             Title  Year  Rating     Genre  # Words       she  \\\n",
              "0       10 things i hate about you  1999     6.9    comedy     5341  0.006167   \n",
              "1                       sister act  1992     5.9    comedy     7401  0.009293   \n",
              "2              the boondock saints  1999     7.8  thriller     5705  0.002246   \n",
              "3                      mystery men  1999     5.9    comedy     3144  0.003308   \n",
              "4                            blade  1998     7.0  thriller     2886  0.001098   \n",
              "..                             ...   ...     ...       ...      ...       ...   \n",
              "328                   storytelling  2001     6.7    comedy     3337  0.000947   \n",
              "329  halloween h20: 20 years later  1998     5.4  thriller     1808  0.003497   \n",
              "330          gone in sixty seconds  2000     6.0  thriller     5644  0.003217   \n",
              "331           the butterfly effect  2004     7.8  thriller     4950  0.000635   \n",
              "332                           edtv  1999     6.1    comedy     5933  0.008303   \n",
              "\n",
              "        decid      talk       wit  razor  ...     eight     morgu     comin  \\\n",
              "0    0.000597  0.001591  0.000199    0.0  ...  0.000000  0.000000  0.000000   \n",
              "1    0.000000  0.001971  0.000563    0.0  ...  0.000000  0.000000  0.000000   \n",
              "2    0.000561  0.002433  0.000374    0.0  ...  0.000749  0.000000  0.000374   \n",
              "3    0.000000  0.001985  0.000000    0.0  ...  0.000331  0.000000  0.000000   \n",
              "4    0.000000  0.001098  0.000000    0.0  ...  0.000000  0.000366  0.000000   \n",
              "..        ...       ...       ...    ...  ...       ...       ...       ...   \n",
              "328  0.000000  0.002840  0.000000    0.0  ...  0.000631  0.000000  0.000000   \n",
              "329  0.000000  0.001748  0.000000    0.0  ...  0.000000  0.000000  0.000000   \n",
              "330  0.000000  0.000757  0.000000    0.0  ...  0.000000  0.000000  0.000000   \n",
              "331  0.000000  0.001058  0.000000    0.0  ...  0.000212  0.000000  0.000000   \n",
              "332  0.000346  0.002249  0.000000    0.0  ...  0.000000  0.000000  0.000000   \n",
              "\n",
              "        style  cadet        uh  uhuh      earn  tini  volunt  \n",
              "0    0.000000    0.0  0.000597   0.0  0.000000   0.0     0.0  \n",
              "1    0.000141    0.0  0.000000   0.0  0.000000   0.0     0.0  \n",
              "2    0.000000    0.0  0.001310   0.0  0.000187   0.0     0.0  \n",
              "3    0.000662    0.0  0.000662   0.0  0.000000   0.0     0.0  \n",
              "4    0.000000    0.0  0.000000   0.0  0.000000   0.0     0.0  \n",
              "..        ...    ...       ...   ...       ...   ...     ...  \n",
              "328  0.000000    0.0  0.001578   0.0  0.000000   0.0     0.0  \n",
              "329  0.000000    0.0  0.000000   0.0  0.000000   0.0     0.0  \n",
              "330  0.000189    0.0  0.000189   0.0  0.000000   0.0     0.0  \n",
              "331  0.000000    0.0  0.000635   0.0  0.000000   0.0     0.0  \n",
              "332  0.000000    0.0  0.001384   0.0  0.000000   0.0     0.0  \n",
              "\n",
              "[333 rows x 5005 columns]"
            ]
          },
          "execution_count": 153,
          "metadata": {},
          "output_type": "execute_result"
        }
      ],
      "source": [
        "movies = pd.read_csv('https://raw.githubusercontent.com/sukhjitsehra/datasets/master/CP322/movies.csv')\n",
        "movies"
      ]
    },
    {
      "cell_type": "markdown",
      "id": "c94bdf86",
      "metadata": {
        "id": "c94bdf86"
      },
      "source": [
        "Here is one row of the table and some of the frequencies of words that were said in the movie."
      ]
    },
    {
      "cell_type": "code",
      "execution_count": 154,
      "id": "ee9ac01f",
      "metadata": {
        "colab": {
          "base_uri": "https://localhost:8080/",
          "height": 81
        },
        "id": "ee9ac01f",
        "outputId": "285c8a85-2bc1-4f66-d4ce-1da5306fd8b7"
      },
      "outputs": [
        {
          "data": {
            "text/html": [
              "<div>\n",
              "<style scoped>\n",
              "    .dataframe tbody tr th:only-of-type {\n",
              "        vertical-align: middle;\n",
              "    }\n",
              "\n",
              "    .dataframe tbody tr th {\n",
              "        vertical-align: top;\n",
              "    }\n",
              "\n",
              "    .dataframe thead th {\n",
              "        text-align: right;\n",
              "    }\n",
              "</style>\n",
              "<table border=\"1\" class=\"dataframe\">\n",
              "  <thead>\n",
              "    <tr style=\"text-align: right;\">\n",
              "      <th></th>\n",
              "      <th>Title</th>\n",
              "      <th>Year</th>\n",
              "      <th>Rating</th>\n",
              "      <th>Genre</th>\n",
              "      <th># Words</th>\n",
              "      <th>breez</th>\n",
              "      <th>england</th>\n",
              "      <th>it</th>\n",
              "      <th>bravo</th>\n",
              "    </tr>\n",
              "  </thead>\n",
              "  <tbody>\n",
              "    <tr>\n",
              "      <th>64</th>\n",
              "      <td>runaway bride</td>\n",
              "      <td>1999</td>\n",
              "      <td>5.2</td>\n",
              "      <td>comedy</td>\n",
              "      <td>4895</td>\n",
              "      <td>0.0</td>\n",
              "      <td>0.0</td>\n",
              "      <td>0.023409</td>\n",
              "      <td>0.0</td>\n",
              "    </tr>\n",
              "  </tbody>\n",
              "</table>\n",
              "</div>"
            ],
            "text/plain": [
              "            Title  Year  Rating   Genre  # Words  breez  england        it  \\\n",
              "64  runaway bride  1999     5.2  comedy     4895    0.0      0.0  0.023409   \n",
              "\n",
              "    bravo  \n",
              "64    0.0  "
            ]
          },
          "execution_count": 154,
          "metadata": {},
          "output_type": "execute_result"
        }
      ],
      "source": [
        "movies.iloc[movies.index[movies[\"Title\"]==\"runaway bride\"],[0, 1, 2, 3, 4, 14, 49, 1042, 4004]]"
      ]
    },
    {
      "cell_type": "markdown",
      "id": "1d235bf0",
      "metadata": {
        "id": "1d235bf0"
      },
      "source": [
        "The above cell prints a few columns of the row for the comedy movie *Runaway Bride*.  The movie contains 4895 words. The word \"it\" appears 115 times, as it makes up  $\\frac{115}{4895} \\approx 0.0234092$ of the words in the movie. The word \"england\" doesn't appear at all.\n",
        "\n",
        "Additional context: This numerical representation of a body of text, one that describes only the frequencies of individual words, is called a bag-of-words representation. This is a model that is often used in [NLP](https://en.wikipedia.org/wiki/Natural_language_processing). A lot of information is discarded in this representation: the order of the words, the context of each word, who said what, the cast of characters and actors, etc. However, a bag-of-words representation is often used for machine learning applications as a reasonable starting point, because a great deal of information is also retained and expressed in a convenient and compact format. \n",
        "\n",
        "Now, we will investigate whether this representation is sufficient to build an accurate genre classifier."
      ]
    },
    {
      "cell_type": "markdown",
      "id": "862102e8",
      "metadata": {
        "id": "862102e8"
      },
      "source": [
        "All movie titles are unique. The `row_for_title` function provides fast access to the one row for each title. \n",
        "\n",
        "*Note: All movies in our dataset have their titles lower-cased.* "
      ]
    },
    {
      "cell_type": "code",
      "execution_count": 155,
      "id": "7b052a76",
      "metadata": {
        "colab": {
          "base_uri": "https://localhost:8080/"
        },
        "id": "7b052a76",
        "outputId": "75b45b42-cac8-4877-c6f7-1ef00136b596"
      },
      "outputs": [
        {
          "data": {
            "text/plain": [
              "Title      toy story\n",
              "Year            1995\n",
              "Rating           8.2\n",
              "Genre         comedy\n",
              "# Words         3016\n",
              "             ...    \n",
              "uh          0.002788\n",
              "uhuh             0.0\n",
              "earn             0.0\n",
              "tini             0.0\n",
              "volunt           0.0\n",
              "Name: 98, Length: 5005, dtype: object"
            ]
          },
          "execution_count": 155,
          "metadata": {},
          "output_type": "execute_result"
        }
      ],
      "source": [
        "def row_for_title(title):\n",
        "    # Find the row where the column \"Title\" matches the input title\n",
        "    row = movies.loc[movies[\"Title\"] == title]\n",
        "\n",
        "    # Return the index of the row\n",
        "    return movies.iloc[row.index[0],:]\n",
        "row_for_title('toy story')"
      ]
    },
    {
      "cell_type": "markdown",
      "id": "93f32008",
      "metadata": {
        "id": "93f32008"
      },
      "source": [
        "For example, the fastest way to find the frequency of \"fun\" in the movie *Toy Story* is to access the `'fun'` item from its row. Check the original table to see if this worked for you!"
      ]
    },
    {
      "cell_type": "code",
      "execution_count": 156,
      "id": "6b4db569",
      "metadata": {
        "colab": {
          "base_uri": "https://localhost:8080/"
        },
        "id": "6b4db569",
        "outputId": "b6386fef-7721-440a-c8b2-5f3b2e007511"
      },
      "outputs": [
        {
          "data": {
            "text/plain": [
              "0.0003485535029627"
            ]
          },
          "execution_count": 156,
          "metadata": {},
          "output_type": "execute_result"
        }
      ],
      "source": [
        "row_for_title('toy story')['fun']"
      ]
    },
    {
      "cell_type": "markdown",
      "id": "a67ecff4",
      "metadata": {
        "deletable": false,
        "editable": false,
        "id": "a67ecff4"
      },
      "source": [
        "**Question 1.0**\n",
        "\n",
        "Set `expected_row_sum` to the number that you __expect__ will result from summing all proportions in each row, excluding the first five columns. Think about what any one row adds up to.\n",
        "\n",
        "<!--\n",
        "BEGIN QUESTION\n",
        "name: q1_0\n",
        "points:\n",
        " - 0\n",
        " - 1\n",
        "-->"
      ]
    },
    {
      "cell_type": "code",
      "execution_count": 157,
      "id": "b2d6436a",
      "metadata": {
        "deletable": false,
        "execution": {
          "iopub.execute_input": "2022-04-16T06:02:01.313346Z",
          "iopub.status.busy": "2022-04-16T06:02:01.313138Z",
          "iopub.status.idle": "2022-04-16T06:02:01.316218Z",
          "shell.execute_reply": "2022-04-16T06:02:01.315560Z"
        },
        "id": "b2d6436a"
      },
      "outputs": [],
      "source": [
        "# Set row_sum to a number that's the (approximate) sum of each row of word proportions.\n",
        "expected_row_sum = movies.iloc[:, 5:].sum(axis=1).mean()"
      ]
    },
    {
      "cell_type": "code",
      "execution_count": 158,
      "id": "c237c323",
      "metadata": {
        "colab": {
          "base_uri": "https://localhost:8080/",
          "height": 46
        },
        "deletable": false,
        "editable": false,
        "id": "c237c323",
        "outputId": "7f6802ae-d88b-486d-d038-766fd3a0247e"
      },
      "outputs": [
        {
          "data": {
            "text/html": [
              "<p><strong><pre style='display: inline;'>q1_0</pre></strong> passed! 🎉</p>"
            ],
            "text/plain": [
              "q1_0 results: All test cases passed!"
            ]
          },
          "execution_count": 158,
          "metadata": {},
          "output_type": "execute_result"
        }
      ],
      "source": [
        "grader.check(\"q1_0\")"
      ]
    },
    {
      "cell_type": "markdown",
      "id": "83405ac0",
      "metadata": {
        "id": "83405ac0"
      },
      "source": [
        "This dataset was extracted from [a dataset from Cornell University](http://www.cs.cornell.edu/~cristian/Cornell_Movie-Dialogs_Corpus.html). After transforming the dataset (e.g., converting the words to lowercase, removing the naughty words, and converting the counts to frequencies), we created this new dataset containing the frequency of 5000 common words in each movie."
      ]
    },
    {
      "cell_type": "code",
      "execution_count": 159,
      "id": "798313ff",
      "metadata": {
        "colab": {
          "base_uri": "https://localhost:8080/"
        },
        "id": "798313ff",
        "outputId": "edbe1a65-3f3f-45e2-aeb1-ff46d443c044"
      },
      "outputs": [
        {
          "name": "stdout",
          "output_type": "stream",
          "text": [
            "Words with frequencies: 5000\n",
            "Movies with genres: 333\n"
          ]
        }
      ],
      "source": [
        "print('Words with frequencies:', len(movies.axes[1]) - 5) # except first 5\n",
        "print('Movies with genres:', len(movies.axes[0]))"
      ]
    },
    {
      "cell_type": "markdown",
      "id": "5b5755ac",
      "metadata": {
        "id": "5b5755ac"
      },
      "source": [
        "#### 1.1. Word Stemming\n",
        "The columns other than \"Title\", \"Year\", \"Rating\", \"Genre\", and \"# Words\" in the `movies` table are all words that appear in some of the movies in our dataset.  These words have been *stemmed*, or abbreviated heuristically, in an attempt to make different [inflected](https://en.wikipedia.org/wiki/Inflection) forms of the same base word into the same string.  For example, the column \"manag\" is the sum of proportions of the words \"manage\", \"manager\", \"managed\", and \"managerial\" (and perhaps others) in each movie. This is a common technique used in machine learning and natural language processing.\n",
        "\n",
        "Stemming makes it a little tricky to search for the words you want to use, so we have provided another table called `vocab_table` that will let you see examples of unstemmed versions of each stemmed word. Run the code below to load it.\n",
        "\n",
        "**Note:** You should use `vocab_table` for the rest of Section 1.1, not `vocab_mapping`. "
      ]
    },
    {
      "cell_type": "code",
      "execution_count": 160,
      "id": "58fa1cce",
      "metadata": {
        "colab": {
          "base_uri": "https://localhost:8080/",
          "height": 363
        },
        "id": "58fa1cce",
        "outputId": "581ebcc6-503c-401f-a161-3bfff4010e95"
      },
      "outputs": [
        {
          "data": {
            "text/html": [
              "<div>\n",
              "<style scoped>\n",
              "    .dataframe tbody tr th:only-of-type {\n",
              "        vertical-align: middle;\n",
              "    }\n",
              "\n",
              "    .dataframe tbody tr th {\n",
              "        vertical-align: top;\n",
              "    }\n",
              "\n",
              "    .dataframe thead th {\n",
              "        text-align: right;\n",
              "    }\n",
              "</style>\n",
              "<table border=\"1\" class=\"dataframe\">\n",
              "  <thead>\n",
              "    <tr style=\"text-align: right;\">\n",
              "      <th></th>\n",
              "      <th>Stem</th>\n",
              "      <th>Word</th>\n",
              "    </tr>\n",
              "  </thead>\n",
              "  <tbody>\n",
              "    <tr>\n",
              "      <th>1100</th>\n",
              "      <td>brief</td>\n",
              "      <td>briefed</td>\n",
              "    </tr>\n",
              "    <tr>\n",
              "      <th>1101</th>\n",
              "      <td>brief</td>\n",
              "      <td>briefs</td>\n",
              "    </tr>\n",
              "    <tr>\n",
              "      <th>1102</th>\n",
              "      <td>brief</td>\n",
              "      <td>brief</td>\n",
              "    </tr>\n",
              "    <tr>\n",
              "      <th>1103</th>\n",
              "      <td>brief</td>\n",
              "      <td>briefing</td>\n",
              "    </tr>\n",
              "    <tr>\n",
              "      <th>1104</th>\n",
              "      <td>creativ</td>\n",
              "      <td>creativity</td>\n",
              "    </tr>\n",
              "    <tr>\n",
              "      <th>1105</th>\n",
              "      <td>creativ</td>\n",
              "      <td>creative</td>\n",
              "    </tr>\n",
              "    <tr>\n",
              "      <th>1106</th>\n",
              "      <td>moscow</td>\n",
              "      <td>moscow</td>\n",
              "    </tr>\n",
              "    <tr>\n",
              "      <th>1107</th>\n",
              "      <td>challeng</td>\n",
              "      <td>challenged</td>\n",
              "    </tr>\n",
              "    <tr>\n",
              "      <th>1108</th>\n",
              "      <td>challeng</td>\n",
              "      <td>challenges</td>\n",
              "    </tr>\n",
              "    <tr>\n",
              "      <th>1109</th>\n",
              "      <td>challeng</td>\n",
              "      <td>challenger</td>\n",
              "    </tr>\n",
              "  </tbody>\n",
              "</table>\n",
              "</div>"
            ],
            "text/plain": [
              "          Stem        Word\n",
              "1100     brief     briefed\n",
              "1101     brief      briefs\n",
              "1102     brief       brief\n",
              "1103     brief    briefing\n",
              "1104   creativ  creativity\n",
              "1105   creativ    creative\n",
              "1106    moscow      moscow\n",
              "1107  challeng  challenged\n",
              "1108  challeng  challenges\n",
              "1109  challeng  challenger"
            ]
          },
          "execution_count": 160,
          "metadata": {},
          "output_type": "execute_result"
        }
      ],
      "source": [
        "# Just run this cell.\n",
        "vocab_mapping = pd.read_csv('https://raw.githubusercontent.com/sukhjitsehra/datasets/master/CP322/stem.csv')\n",
        "stemmed = np.take(movies.columns, np.arange(3, len(movies.columns)))\n",
        "vocab_table = pd.merge(pd.DataFrame({'Stem': stemmed}), vocab_mapping, on='Stem')\n",
        "vocab_table.iloc[1100:1110]"
      ]
    },
    {
      "cell_type": "markdown",
      "id": "3ddce395",
      "metadata": {
        "deletable": false,
        "editable": false,
        "id": "3ddce395"
      },
      "source": [
        "**Question 1.1.1**\n",
        "\n",
        "Using `vocab_table`, find the stemmed version of the word \"elements\" and assign the value to `stemmed_message`.\n",
        "\n",
        "<!--\n",
        "BEGIN QUESTION\n",
        "name: q1_1_1\n",
        "points:\n",
        " - 0\n",
        " - 0\n",
        " - 2\n",
        "-->"
      ]
    },
    {
      "cell_type": "code",
      "execution_count": 161,
      "id": "26ed7259",
      "metadata": {
        "colab": {
          "base_uri": "https://localhost:8080/",
          "height": 35
        },
        "execution": {
          "iopub.execute_input": "2022-04-16T06:02:04.512744Z",
          "iopub.status.busy": "2022-04-16T06:02:04.512513Z",
          "iopub.status.idle": "2022-04-16T06:02:04.550718Z",
          "shell.execute_reply": "2022-04-16T06:02:04.539367Z"
        },
        "id": "26ed7259",
        "outputId": "bb052c6a-af53-4cdd-afc2-1b9d306f2614"
      },
      "outputs": [
        {
          "data": {
            "text/plain": [
              "'element'"
            ]
          },
          "execution_count": 161,
          "metadata": {},
          "output_type": "execute_result"
        }
      ],
      "source": [
        "stemmed_message = vocab_table.loc[vocab_table['Word'] == 'elements'].iloc[0]['Stem']\n",
        "stemmed_message"
      ]
    },
    {
      "cell_type": "code",
      "execution_count": 162,
      "id": "85e68c53",
      "metadata": {
        "colab": {
          "base_uri": "https://localhost:8080/",
          "height": 46
        },
        "deletable": false,
        "editable": false,
        "id": "85e68c53",
        "outputId": "4ef533d6-29bc-4f2b-c2c0-4930d9dfc3ab"
      },
      "outputs": [
        {
          "data": {
            "text/html": [
              "<p><strong><pre style='display: inline;'>q1_1_1</pre></strong> passed! 🍀</p>"
            ],
            "text/plain": [
              "q1_1_1 results: All test cases passed!"
            ]
          },
          "execution_count": 162,
          "metadata": {},
          "output_type": "execute_result"
        }
      ],
      "source": [
        "grader.check(\"q1_1_1\")"
      ]
    },
    {
      "cell_type": "markdown",
      "id": "d7010085",
      "metadata": {
        "deletable": false,
        "editable": false,
        "id": "d7010085"
      },
      "source": [
        "**Question 1.1.2**\n",
        "\n",
        "What stem in the `vocab_table` dataset has the most words that are shortened to it? Assign `most_stem` to that stem. \n",
        "\n",
        "<!--\n",
        "BEGIN QUESTION\n",
        "name: q1_1_2\n",
        "points:\n",
        " - 0\n",
        " - 1\n",
        " - 1\n",
        "-->"
      ]
    },
    {
      "cell_type": "code",
      "execution_count": 163,
      "id": "512f5661",
      "metadata": {
        "colab": {
          "base_uri": "https://localhost:8080/",
          "height": 35
        },
        "execution": {
          "iopub.execute_input": "2022-04-16T06:02:04.587233Z",
          "iopub.status.busy": "2022-04-16T06:02:04.586949Z",
          "iopub.status.idle": "2022-04-16T06:02:04.967683Z",
          "shell.execute_reply": "2022-04-16T06:02:04.966795Z"
        },
        "id": "512f5661",
        "outputId": "4bdaddc2-9627-413f-e499-d9e891e8b305"
      },
      "outputs": [
        {
          "data": {
            "text/plain": [
              "'gener'"
            ]
          },
          "execution_count": 163,
          "metadata": {},
          "output_type": "execute_result"
        }
      ],
      "source": [
        "most_stem = vocab_table['Stem'].value_counts().idxmax()\n",
        "most_stem"
      ]
    },
    {
      "cell_type": "code",
      "execution_count": 164,
      "id": "0f99d492",
      "metadata": {
        "colab": {
          "base_uri": "https://localhost:8080/",
          "height": 46
        },
        "deletable": false,
        "editable": false,
        "id": "0f99d492",
        "outputId": "fbe06e4a-3117-40b3-92ed-4b6de9e1927c"
      },
      "outputs": [
        {
          "data": {
            "text/html": [
              "<p><strong><pre style='display: inline;'>q1_1_2</pre></strong> passed! 🚀</p>"
            ],
            "text/plain": [
              "q1_1_2 results: All test cases passed!"
            ]
          },
          "execution_count": 164,
          "metadata": {},
          "output_type": "execute_result"
        }
      ],
      "source": [
        "grader.check(\"q1_1_2\")"
      ]
    },
    {
      "cell_type": "markdown",
      "id": "4e42a870",
      "metadata": {
        "deletable": false,
        "editable": false,
        "id": "4e42a870"
      },
      "source": [
        "**Question 1.1.3**\n",
        "\n",
        "What is the longest word in the dataset whose stem wasn't shortened? Assign that to `longest_uncut`. Break ties alphabetically from Z to A (so if your options are \"cat\" or \"bat\", you should pick \"cat\"). Note that when sorting letters, the letter `a` is smaller than the letter `z`.\n",
        "\n",
        "*Hint:* `vocab_table` has 2 columns: one for stems and one for the unstemmed (normal) word. Find the longest word that wasn't cut at all (same length as stem).\n",
        "\n",
        "<!--\n",
        "BEGIN QUESTION\n",
        "name: q1_1_3\n",
        "points:\n",
        " - 1\n",
        " - 3\n",
        "-->"
      ]
    },
    {
      "cell_type": "code",
      "execution_count": 165,
      "id": "e05716bd",
      "metadata": {
        "colab": {
          "base_uri": "https://localhost:8080/",
          "height": 35
        },
        "id": "e05716bd",
        "outputId": "6683fdb8-0e47-476e-ca20-0fe5cfd5778a"
      },
      "outputs": [
        {
          "data": {
            "text/plain": [
              "'zoo'"
            ]
          },
          "execution_count": 165,
          "metadata": {},
          "output_type": "execute_result"
        }
      ],
      "source": [
        "# Create a new DataFrame with two new columns: \"Word len\" and \"Stem len\"\n",
        "vocab_table['Word len'] = vocab_table['Word'].apply(len)\n",
        "vocab_table['Stem len'] = vocab_table['Stem'].apply(len)\n",
        "\n",
        "# Create a new column \"len dif\" that shows the difference between \"Word len\" and \"Stem len\"\n",
        "vocab_table['len dif'] = vocab_table['Word len'] - vocab_table['Stem len']\n",
        "\n",
        "# Filter the DataFrame to only include rows where \"len dif\" is 0\n",
        "tbl_with_diff = vocab_table[vocab_table['len dif'] == 0]\n",
        "\n",
        "# Sort the filtered DataFrame by \"Word\" in descending order and \"Word len\" in descending order\n",
        "tbl_with_diff = tbl_with_diff.sort_values(by=['Word', 'Word len'], ascending=[False, False])\n",
        "\n",
        "# Extract the first value in the \"Word\" column\n",
        "longest_uncut = tbl_with_diff.iloc[0]['Word']\n",
        "longest_uncut"
      ]
    },
    {
      "cell_type": "code",
      "execution_count": 166,
      "id": "093f64d0",
      "metadata": {
        "colab": {
          "base_uri": "https://localhost:8080/",
          "height": 46
        },
        "deletable": false,
        "editable": false,
        "id": "093f64d0",
        "outputId": "66035d79-6954-4543-ea28-e10b6fe8ed71"
      },
      "outputs": [
        {
          "data": {
            "text/html": [
              "<p><strong><pre style='display: inline;'>q1_1_3</pre></strong> passed! 🙌</p>"
            ],
            "text/plain": [
              "q1_1_3 results: All test cases passed!"
            ]
          },
          "execution_count": 166,
          "metadata": {},
          "output_type": "execute_result"
        }
      ],
      "source": [
        "grader.check(\"q1_1_3\")"
      ]
    },
    {
      "cell_type": "markdown",
      "id": "3afb0fe7",
      "metadata": {
        "id": "3afb0fe7"
      },
      "source": [
        "#### 1.2. Exploratory Data Analysis: Linear Regression"
      ]
    },
    {
      "cell_type": "markdown",
      "id": "30480e4f",
      "metadata": {
        "id": "30480e4f"
      },
      "source": [
        "Let's explore our dataset before trying to build a classifier. To start, we’ll use the associated proportions to investigate the relationship between different words.\n",
        "\n",
        "The first association we'll investigate is the association between the proportion of words that are \"outer\" and the proportion of words that are \"space\". \n",
        "\n",
        "As usual, we'll investigate our data visually before performing any numerical analysis.\n",
        "\n",
        "Run the cell below to plot a scatter diagram of \"space\" proportions vs \"outer\" proportions and to create the `outer_space` dataframe. Each point on the scatter plot represents one movie."
      ]
    },
    {
      "cell_type": "code",
      "execution_count": 167,
      "id": "49d650ee",
      "metadata": {
        "colab": {
          "base_uri": "https://localhost:8080/",
          "height": 528
        },
        "id": "49d650ee",
        "outputId": "227a657c-db07-4b35-c4bc-38d0e47f8243"
      },
      "outputs": [
        {
          "data": {
            "image/png": "[encoded data removed]",
            "text/plain": [
              "<Figure size 720x576 with 1 Axes>"
            ]
          },
          "metadata": {
            "needs_background": "light"
          },
          "output_type": "display_data"
        }
      ],
      "source": [
        "# Select the \"outer\" and \"space\" columns from the DataFrame\n",
        "outer_space = movies[['outer', 'space']]\n",
        "\n",
        "# Create a scatter plot of \"outer\" proportions vs \"space\" proportions\n",
        "outer_space.plot.scatter(x='outer', y='space', figsize=(10, 8))\n",
        "plt.xlim(-0.0005, 0.001)\n",
        "plt.ylim(-0.0005, 0.003)\n",
        "# Rotate the x-axis labels by 45 degrees\n",
        "plt.xticks(rotation=45)\n",
        "plt.draw()"
      ]
    },
    {
      "cell_type": "markdown",
      "id": "05ec27dd",
      "metadata": {
        "deletable": false,
        "editable": false,
        "id": "05ec27dd"
      },
      "source": [
        "**Question 1.2.1**\n",
        "\n",
        "Looking at that chart it is difficult to see if there is an association. Calculate the correlation coefficient for the potential linear association between proportion of words that are \"outer\" and the proportion of words that are \"space\" for every movie in the dataset, and assign it to `outer_space_cor`. \n",
        "\n",
        "<!--\n",
        "BEGIN QUESTION\n",
        "name: q1_2_1\n",
        "points:\n",
        " - 0\n",
        " - 2\n",
        "-->"
      ]
    },
    {
      "cell_type": "code",
      "execution_count": 168,
      "id": "eedbd577",
      "metadata": {
        "colab": {
          "base_uri": "https://localhost:8080/"
        },
        "id": "eedbd577",
        "outputId": "1d3d05e5-70a9-466a-92ac-26b44e3f9ca4"
      },
      "outputs": [
        {
          "data": {
            "text/plain": [
              "0.31942607876895845"
            ]
          },
          "execution_count": 168,
          "metadata": {},
          "output_type": "execute_result"
        }
      ],
      "source": [
        "# These two arrays should make your code cleaner!\n",
        "outer = movies[\"outer\"]\n",
        "space = movies[\"space\"]\n",
        "\n",
        "# code to find (X_i - mean(X))/std(X)\n",
        "outer_su = (outer - np.mean(outer)) / np.std(outer)\n",
        "space_su = (space - np.mean(space)) / np.std(space)\n",
        "\n",
        "# find correlation\n",
        "outer_space_cor = np.mean(outer_su * space_su)\n",
        "outer_space_cor"
      ]
    },
    {
      "cell_type": "code",
      "execution_count": 169,
      "id": "6c1b4f83",
      "metadata": {
        "colab": {
          "base_uri": "https://localhost:8080/",
          "height": 46
        },
        "deletable": false,
        "editable": false,
        "id": "6c1b4f83",
        "outputId": "f36ae74f-caf2-48b2-f277-b8ce2e351d19"
      },
      "outputs": [
        {
          "data": {
            "text/html": [
              "<p><strong><pre style='display: inline;'>q1_2_1</pre></strong> passed! 🙌</p>"
            ],
            "text/plain": [
              "q1_2_1 results: All test cases passed!"
            ]
          },
          "execution_count": 169,
          "metadata": {},
          "output_type": "execute_result"
        }
      ],
      "source": [
        "grader.check(\"q1_2_1\")"
      ]
    },
    {
      "cell_type": "markdown",
      "id": "dd10fb4f",
      "metadata": {
        "deletable": false,
        "editable": false,
        "id": "dd10fb4f"
      },
      "source": [
        "<!-- BEGIN QUESTION -->\n",
        "\n",
        "**Question 1.2.2 (Manually Graded)**\n",
        "\n",
        "Choose two *different* words in the movies dataset with a magnitude (absolute value) of correlation higher than 0.2 and plot a scatter plot with a line of best fit for them. Please do not pick \"outer\" and \"space\" or \"san\" and \"francisco\". The code to plot the scatter plot and line of best fit is given for you, you just need to calculate the correct values to `cor`, `slope` and `intercept`. \n",
        "\n",
        "*Hint:* It's easier to think of words with a positive correlation, i.e. words that are often mentioned together*. Try to think of common phrases or idioms.\n",
        "\n",
        "<!--\n",
        "BEGIN QUESTION\n",
        "name: q1_2_2\n",
        "manual: true\n",
        "-->"
      ]
    },
    {
      "cell_type": "code",
      "execution_count": 170,
      "id": "4eb89107",
      "metadata": {
        "colab": {
          "base_uri": "https://localhost:8080/",
          "height": 513
        },
        "execution": {
          "iopub.execute_input": "2022-04-16T06:02:05.843183Z",
          "iopub.status.busy": "2022-04-16T06:02:05.842899Z",
          "iopub.status.idle": "2022-04-16T06:02:06.182758Z",
          "shell.execute_reply": "2022-04-16T06:02:06.182099Z"
        },
        "id": "4eb89107",
        "outputId": "b3d9ebe6-e5ad-405a-cf37-22fe7f1e7e49"
      },
      "outputs": [
        {
          "data": {
            "image/png": "[encoded data removed]",
            "text/plain": [
              "<Figure size 720x576 with 1 Axes>"
            ]
          },
          "metadata": {
            "needs_background": "light"
          },
          "output_type": "display_data"
        }
      ],
      "source": [
        "word_x = \"cold\" \n",
        "word_y = \"warm\"\n",
        "\n",
        "# These arrays should make your code cleaner!\n",
        "arr_x = movies[\"cold\"]\n",
        "arr_y = movies[\"warm\"]\n",
        "\n",
        "# code to find (X_i - mean(X))/std(X)\n",
        "x_su = (movies['cold'] - movies['cold'].mean()) / movies['cold'].std()\n",
        "y_su = (movies['warm'] - movies['warm'].mean()) / movies['warm'].std()\n",
        "\n",
        "cor = x_su.corr(y_su)\n",
        "\n",
        "slope = cor * (arr_y.std() / arr_x.std())\n",
        "intercept = arr_y.mean() - slope * arr_x.mean()\n",
        "# DON'T CHANGE THESE LINES OF CODE\n",
        "# Create a scatter plot of the data\n",
        "ax = movies.plot.scatter(x=word_x, y=word_y, figsize=(10, 8), color='blue')\n",
        "\n",
        "# Add the regression line to the plot\n",
        "max_x = arr_x.max()\n",
        "ax.plot([0, max_x * 1.3], [intercept, intercept + slope * (max_x*1.3)], color='gold', label='Regression Line')\n",
        "\n",
        "# Add the title to the plot\n",
        "plt.title(f\"Correlation: {cor:.3f}, magnitude greater than .2: {abs(cor) >= 0.2}\")\n",
        "\n",
        "# Show the plot\n",
        "plt.draw()"
      ]
    },
    {
      "cell_type": "markdown",
      "id": "b5edfca2",
      "metadata": {
        "deletable": false,
        "editable": false,
        "id": "b5edfca2"
      },
      "source": [
        "<!-- END QUESTION -->\n",
        "\n",
        "**Question 1.2.3**\n",
        "\n",
        "\n",
        "Imagine that you picked the words \"san\" and \"francisco\" as the two words that you would expect to be correlated because they compose the city name San Francisco. Assign `san_francisco` to either the number '1' or  '2' according to which statement is true regarding the correlation between \"san\" and \"francisco.\" \n",
        "\n",
        "1. \"san\" can also preceed other city names like San Diego and San Jose. This might lead to \"san\" appearing in movies without \"francisco,\" and would reduce the correlation between \"san\" and \"francisco.\"\n",
        "2. \"san\" can also preceed other city names like San Diego and San Jose. The fact that \"san\" could appear more often in front of different cities and without \"francisco\" would increase the correlation between \"san\" and \"francisco.\" \n",
        "\n",
        "<!--\n",
        "BEGIN QUESTION\n",
        "name: q1_2_3\n",
        "points:\n",
        " - 0\n",
        " - 1\n",
        "-->"
      ]
    },
    {
      "cell_type": "code",
      "execution_count": 171,
      "id": "d472c9a6",
      "metadata": {
        "execution": {
          "iopub.execute_input": "2022-04-16T06:02:06.186740Z",
          "iopub.status.busy": "2022-04-16T06:02:06.186514Z",
          "iopub.status.idle": "2022-04-16T06:02:06.190152Z",
          "shell.execute_reply": "2022-04-16T06:02:06.189484Z"
        },
        "id": "d472c9a6"
      },
      "outputs": [],
      "source": [
        "san_francisco = 1"
      ]
    },
    {
      "cell_type": "code",
      "execution_count": 172,
      "id": "80b4d843",
      "metadata": {
        "colab": {
          "base_uri": "https://localhost:8080/",
          "height": 46
        },
        "deletable": false,
        "editable": false,
        "id": "80b4d843",
        "outputId": "6b059dba-f98e-4fea-bd80-73da451555de"
      },
      "outputs": [
        {
          "data": {
            "text/html": [
              "<p><strong><pre style='display: inline;'>q1_2_3</pre></strong> passed! 🌈</p>"
            ],
            "text/plain": [
              "q1_2_3 results: All test cases passed!"
            ]
          },
          "execution_count": 172,
          "metadata": {},
          "output_type": "execute_result"
        }
      ],
      "source": [
        "grader.check(\"q1_2_3\")"
      ]
    },
    {
      "cell_type": "markdown",
      "id": "2b305726",
      "metadata": {
        "id": "2b305726"
      },
      "source": [
        "#### 1.3. Splitting the dataset\n",
        "\n",
        "Now, we're going to use our `movies` dataset for two purposes.\n",
        "\n",
        "1. First, we want to *train* movie genre classifiers.\n",
        "2. Second, we want to *test* the performance of our classifiers. \n",
        "\n",
        "Hence, we need two different datasets: *training* and *test*. \n",
        "\n",
        "The purpose of a classifier is to classify unseen data that is similar to the training data. The test dataset will help us determine the accuracy of our predictions by comparing the actual genres of the movies with the genres that our classifier predicts. Therefore, we must ensure that there are no movies that appear in both sets. We do so by splitting the dataset randomly. The dataset has already been permuted randomly, so it's easy to split.  We just take the first 85% of the dataset for training and the rest for test. \n",
        "\n",
        "Run the code below (without changing it) to separate the datasets into two tables."
      ]
    },
    {
      "cell_type": "code",
      "execution_count": 173,
      "id": "ecd40faa",
      "metadata": {
        "colab": {
          "base_uri": "https://localhost:8080/"
        },
        "id": "ecd40faa",
        "outputId": "5814bdc3-25e7-4c86-8250-bf5c7eb1720b"
      },
      "outputs": [
        {
          "data": {
            "text/plain": [
              "333"
            ]
          },
          "execution_count": 173,
          "metadata": {},
          "output_type": "execute_result"
        }
      ],
      "source": [
        "movies.shape[0]"
      ]
    },
    {
      "cell_type": "code",
      "execution_count": 174,
      "id": "a0850be9",
      "metadata": {
        "colab": {
          "base_uri": "https://localhost:8080/"
        },
        "id": "a0850be9",
        "outputId": "c85e6e8a-ebff-4cd2-b1a0-a87ef62b2d44"
      },
      "outputs": [
        {
          "name": "stdout",
          "output_type": "stream",
          "text": [
            "Training:  283 ; Test:  50\n"
          ]
        }
      ],
      "source": [
        "training_proportion = 17/20\n",
        "\n",
        "num_movies = movies.shape[0]\n",
        "num_train = int(num_movies * training_proportion)\n",
        "num_test = num_movies - num_train\n",
        "\n",
        "train_movies = movies.take(np.arange(num_train))\n",
        "test_movies = movies.take(np.arange(num_train, num_movies))\n",
        "\n",
        "print(\"Training: \",   train_movies.shape[0], \";\",\n",
        "      \"Test: \",       test_movies.shape[0])\n"
      ]
    },
    {
      "cell_type": "markdown",
      "id": "de4c0ce2",
      "metadata": {
        "deletable": false,
        "editable": false,
        "id": "de4c0ce2"
      },
      "source": [
        "<!-- BEGIN QUESTION -->\n",
        "\n",
        "**Question 1.3.1 (Manually Graded)**\n",
        "\n",
        "Draw a horizontal bar chart with two bars that show the proportion of Comedy movies in each dataset (`train_movies` and `test_movies`). The two bars should be labeled \"Training\" and \"Test\". Complete the function `comedy_proportion` first; it should help you create the bar chart. \n",
        "\n",
        "<!--\n",
        "BEGIN QUESTION\n",
        "name: q1_3_1\n",
        "manual: true\n",
        "-->"
      ]
    },
    {
      "cell_type": "code",
      "execution_count": 175,
      "id": "288fbde8",
      "metadata": {
        "colab": {
          "base_uri": "https://localhost:8080/",
          "height": 295
        },
        "id": "288fbde8",
        "outputId": "7d4c45f0-1913-45f4-b5b6-46143f2ade29"
      },
      "outputs": [
        {
          "data": {
            "image/png": "[encoded data removed]",
            "text/plain": [
              "<Figure size 432x288 with 1 Axes>"
            ]
          },
          "metadata": {
            "needs_background": "light"
          },
          "output_type": "display_data"
        }
      ],
      "source": [
        "import matplotlib.pyplot as plt\n",
        "def comedy_proportion(table):\n",
        "    # Return the proportion of movies in a table that have the comedy genre.\n",
        "    comedy_count = table.where(table[\"Genre\"] == \"Comedy\").dropna().shape[0]\n",
        "    return comedy_count / table.shape[0]\n",
        "\n",
        "train_comedy_prop = comedy_proportion(train_movies)\n",
        "test_comedy_prop = comedy_proportion(test_movies)\n",
        "# The staff solution took multiple lines.  Start by creating a table.\n",
        "# If you get stuck, think about what sort of table you need for barh to work\n",
        "plt.barh([\"Training\", \"Test\"], [train_comedy_prop, test_comedy_prop])\n",
        "plt.title(\"Proportion of Comedy Movies\")\n",
        "plt.xlabel(\"Proportion\")\n",
        "plt.show()"
      ]
    },
    {
      "cell_type": "markdown",
      "id": "c219695e",
      "metadata": {
        "id": "c219695e"
      },
      "source": [
        "<!-- END QUESTION -->\n",
        "\n",
        "\n",
        "\n",
        "### 2 K-Nearest Neighbors\n",
        "\n",
        "We are going to `simulate` the steps that `K-Nearest Neighbors (k-NN)` algorithm will use for classification, i.e.,  Given some numerical *attributes* (also called *features*) of an unseen example, it decides which category that example belongs to based on its similarity to previously seen examples. Predicting the category of an example is called *labeling*, and the predicted category is also called a *label*.\n",
        "\n",
        "An attribute (feature) we have about each movie is *the proportion of times a particular word appears in the movie*, and the labels are two movie genres: comedy and thriller.  The algorithm requires many previously seen examples for which both the attributes and labels are known: that's the `train_movies` table.\n",
        "\n",
        "To build understanding, we're going to visualize the algorithm instead of just describing it."
      ]
    },
    {
      "cell_type": "markdown",
      "id": "fa566af7",
      "metadata": {
        "id": "fa566af7"
      },
      "source": [
        "#### 2.1. Classifying a movie\n",
        "\n",
        "In k-NN, we classify a movie by finding the `k` movies in the *training set* that are most similar according to the features we choose. We call those movies with similar features the *nearest neighbors*.  The k-NN algorithm assigns the movie to the most common category among its `k` nearest neighbors.\n",
        "\n",
        "Let's limit ourselves to just 2 features for now, so we can plot each movie.  The features we will use are the proportions of the words \"water\" and \"feel\" in the movie.  Taking the movie *Monty Python and the Holy Grail* (in the test set), 0.000804074 of its words are \"water\" and 0.0010721 are \"feel\". This movie appears in the test set, so let's imagine that we don't yet know its genre.\n",
        "\n",
        "First, we need to make our notion of similarity more precise.  We will say that the *distance* between two movies is the straight-line distance between them when we plot their features on a scatter diagram. \n",
        "\n",
        "**This distance is called the Euclidean (\"yoo-KLID-ee-un\") distance, whose formula is $\\sqrt{(x_1 - x_2)^2 + (y_1 - y_2)^2}$.**\n",
        "\n",
        "For example, in the movie *Clerks.* (in the training set), 0.00016293 of all the words in the movie are \"water\" and 0.00154786 are \"feel\".  Its distance from *Monty Python and the Holy Grail* on this 2-word feature set is $\\sqrt{(0.000804074 - 0.000162933)^2 + (0.0010721 - 0.00154786)^2} \\approx 0.000798379$.  (If we included more or different features, the distance could be different.)\n",
        "\n",
        "A third movie, *The Godfather* (in the training set), has 0 \"water\" and 0.00015122 \"feel\". \n",
        "\n",
        "The function below creates a plot to display the \"water\" and \"feel\" features of a test movie and some training movies. As you can see in the result, *Monty Python and the Holy Grail* is more similar to *Clerks.* than to the *The Godfather* based on these features, which makes sense as both movies are comedy movies, while *The Godfather* is a thriller."
      ]
    },
    {
      "cell_type": "code",
      "execution_count": 176,
      "id": "8d39c31d",
      "metadata": {
        "colab": {
          "base_uri": "https://localhost:8080/",
          "height": 497
        },
        "execution": {
          "iopub.execute_input": "2022-04-16T06:02:06.542334Z",
          "iopub.status.busy": "2022-04-16T06:02:06.542105Z",
          "iopub.status.idle": "2022-04-16T06:02:07.026536Z",
          "shell.execute_reply": "2022-04-16T06:02:07.025632Z"
        },
        "id": "8d39c31d",
        "outputId": "7f81352a-01fa-4fe5-ac1c-aaef588dd902"
      },
      "outputs": [
        {
          "data": {
            "image/png": "[encoded data removed]",
            "text/plain": [
              "<Figure size 864x576 with 1 Axes>"
            ]
          },
          "metadata": {
            "needs_background": "light"
          },
          "output_type": "display_data"
        }
      ],
      "source": [
        "# Just run this cell.\n",
        "def plot_with_two_features(test_movie, training_movies, x_feature, y_feature):\n",
        "    \"\"\"Plot a test movie and training movies using two features.\"\"\"\n",
        "    test_row = row_for_title(test_movie)\n",
        "    distances = pd.DataFrame({\n",
        "            x_feature: [test_row[x_feature]],\n",
        "            y_feature: [test_row[y_feature]],\n",
        "            'Color': 0,\n",
        "            'Title': [test_movie]\n",
        "        })\n",
        "\n",
        "    color_map = {'unknown': 0, 'comedy': 1, 'drama': 2, 'action': 3, 'thriller': 4}\n",
        "    for movie in training_movies:\n",
        "        row = row_for_title(movie)\n",
        "        distances = distances.append({\n",
        "            x_feature: row[x_feature],\n",
        "            y_feature: row[y_feature],\n",
        "            'Color': color_map.get(row['Genre']),\n",
        "            'Title': movie\n",
        "        }, ignore_index=True)\n",
        "    fig = plt.figure(figsize=(12, 8))\n",
        "    plt.axis([-0.0008, 0.001, -0.004, 0.007]);\n",
        "    ax = plt.scatter(distances[x_feature], distances[y_feature], c=distances['Color'], s=50)\n",
        "    plt.xlabel(x_feature)\n",
        "    plt.ylabel(y_feature)\n",
        "    for i, title in enumerate(distances['Title']):\n",
        "        ax.axes.annotate(title, (distances[x_feature][i], distances[y_feature][i]))\n",
        "    plt.draw()\n",
        "    \n",
        "training = [\"clerks.\", \"the godfather\"] \n",
        "plot_with_two_features(\"monty python and the holy grail\", training, \"water\", \"feel\")"
      ]
    },
    {
      "cell_type": "markdown",
      "id": "c238abda",
      "metadata": {
        "deletable": false,
        "editable": false,
        "id": "c238abda"
      },
      "source": [
        "**Question 2.1.1**\n",
        "\n",
        "Compute the Euclidean distance (defined in the section above) between the two movies, *Monty Python and the Holy Grail* and *The Godfather*, using the `water` and `feel` features only.  Assign it the name `one_distance`. \n",
        "\n",
        "*Hint:* In the formula for Euclidean distance, think carefully about what `x` and `y` represent. Refer to the example in the text above if you are unsure.\n",
        "\n",
        "<!--\n",
        "BEGIN QUESTION\n",
        "name: q2_1_1\n",
        "points:\n",
        " - 0\n",
        " - 3\n",
        "-->"
      ]
    },
    {
      "cell_type": "code",
      "execution_count": 177,
      "id": "f60f3a57",
      "metadata": {
        "colab": {
          "base_uri": "https://localhost:8080/"
        },
        "deletable": false,
        "execution": {
          "iopub.execute_input": "2022-04-16T06:02:07.030543Z",
          "iopub.status.busy": "2022-04-16T06:02:07.030207Z",
          "iopub.status.idle": "2022-04-16T06:02:07.041776Z",
          "shell.execute_reply": "2022-04-16T06:02:07.040857Z"
        },
        "id": "f60f3a57",
        "outputId": "89e0d585-2f8c-4bf4-aeba-0f882c871dea"
      },
      "outputs": [
        {
          "data": {
            "text/plain": [
              "0.0012225209151294461"
            ]
          },
          "execution_count": 177,
          "metadata": {},
          "output_type": "execute_result"
        }
      ],
      "source": [
        "python = row_for_title(\"monty python and the holy grail\") \n",
        "godfather = row_for_title(\"the godfather\") \n",
        "\n",
        "one_distance = np.sqrt((python[\"water\"] - godfather[\"water\"])**2 + (python[\"feel\"] - godfather[\"feel\"])**2)\n",
        "one_distance"
      ]
    },
    {
      "cell_type": "code",
      "execution_count": 178,
      "id": "b0e94b81",
      "metadata": {
        "colab": {
          "base_uri": "https://localhost:8080/",
          "height": 46
        },
        "deletable": false,
        "editable": false,
        "id": "b0e94b81",
        "outputId": "b7004759-5435-41e0-af3e-a9201cd249ae"
      },
      "outputs": [
        {
          "data": {
            "text/html": [
              "<p><strong><pre style='display: inline;'>q2_1_1</pre></strong> passed! 🎉</p>"
            ],
            "text/plain": [
              "q2_1_1 results: All test cases passed!"
            ]
          },
          "execution_count": 178,
          "metadata": {},
          "output_type": "execute_result"
        }
      ],
      "source": [
        "grader.check(\"q2_1_1\")"
      ]
    },
    {
      "cell_type": "markdown",
      "id": "37552f55",
      "metadata": {
        "id": "37552f55"
      },
      "source": [
        "Below, we've added a third training movie, *The Silence of the Lambs*. Before, the point closest to *Monty Python and the Holy Grail* was *Clerks.*, a comedy movie. However, now the closest point is *The Silence of the Lambs*, a thriller movie."
      ]
    },
    {
      "cell_type": "code",
      "execution_count": 179,
      "id": "ffcda3ca",
      "metadata": {
        "colab": {
          "base_uri": "https://localhost:8080/",
          "height": 497
        },
        "execution": {
          "iopub.execute_input": "2022-04-16T06:02:07.081610Z",
          "iopub.status.busy": "2022-04-16T06:02:07.080795Z",
          "iopub.status.idle": "2022-04-16T06:02:07.567083Z",
          "shell.execute_reply": "2022-04-16T06:02:07.566469Z"
        },
        "id": "ffcda3ca",
        "outputId": "8b0e2efc-2fa5-44dd-bf39-2738ea9a3e21"
      },
      "outputs": [
        {
          "data": {
            "image/png": "[encoded data removed]",
            "text/plain": [
              "<Figure size 864x576 with 1 Axes>"
            ]
          },
          "metadata": {
            "needs_background": "light"
          },
          "output_type": "display_data"
        }
      ],
      "source": [
        "training = [\"clerks.\", \"the godfather\", \"the silence of the lambs\"] \n",
        "plot_with_two_features(\"monty python and the holy grail\", training, \"water\", \"feel\") "
      ]
    },
    {
      "cell_type": "markdown",
      "id": "e349c66e",
      "metadata": {
        "deletable": false,
        "editable": false,
        "id": "e349c66e"
      },
      "source": [
        "**Question 2.1.2**\n",
        "\n",
        "Complete the function `distance_two_features` that computes the Euclidean distance between any two movies, using two features. The last two lines call your function to show that *Monty Python and the Holy Grail* is closer to *The Silence of the Lambs* than it is to *Clerks*. \n",
        "\n",
        "<!--\n",
        "BEGIN QUESTION\n",
        "name: q2_1_2\n",
        "points:\n",
        " - 1\n",
        " - 2\n",
        "-->"
      ]
    },
    {
      "cell_type": "code",
      "execution_count": 180,
      "id": "4c4635b1",
      "metadata": {
        "colab": {
          "base_uri": "https://localhost:8080/"
        },
        "deletable": false,
        "execution": {
          "iopub.execute_input": "2022-04-16T06:02:07.571277Z",
          "iopub.status.busy": "2022-04-16T06:02:07.571061Z",
          "iopub.status.idle": "2022-04-16T06:02:07.584130Z",
          "shell.execute_reply": "2022-04-16T06:02:07.583041Z"
        },
        "id": "4c4635b1",
        "outputId": "10c95ade-24ea-47d3-a460-15d44039ac44"
      },
      "outputs": [
        {
          "name": "stdout",
          "output_type": "stream",
          "text": [
            "clerks. distance:\t 0.0007983810687227716\n",
            "the silence of the lambs distance:\t 0.00022256314855564847\n"
          ]
        }
      ],
      "source": [
        "def distance_two_features(title0, title1, x_feature, y_feature):\n",
        "    \"\"\"Compute the distance between two movies with titles title0 and title1.\n",
        "    \n",
        "    Only the features named x_feature and y_feature are used when computing the distance.\n",
        "    \"\"\"\n",
        "    row0 = row_for_title(title0)\n",
        "    row1 = row_for_title(title1)\n",
        "    distance = ((row0[x_feature] - row1[x_feature]) ** 2 + (row0[y_feature] - row1[y_feature]) ** 2) ** 0.5\n",
        "    return distance\n",
        "\n",
        "for movie in [\"clerks.\", \"the silence of the lambs\"]:\n",
        "    movie_distance = distance_two_features(movie, \"monty python and the holy grail\", \"water\", \"feel\")\n",
        "    print(movie, 'distance:\\t', movie_distance)"
      ]
    },
    {
      "cell_type": "code",
      "execution_count": 181,
      "id": "da828829",
      "metadata": {
        "colab": {
          "base_uri": "https://localhost:8080/",
          "height": 46
        },
        "deletable": false,
        "editable": false,
        "id": "da828829",
        "outputId": "88b2c60e-e8eb-4150-a1ca-8ed311b3c23f"
      },
      "outputs": [
        {
          "data": {
            "text/html": [
              "<p><strong><pre style='display: inline;'>q2_1_2</pre></strong> passed! 🎉</p>"
            ],
            "text/plain": [
              "q2_1_2 results: All test cases passed!"
            ]
          },
          "execution_count": 181,
          "metadata": {},
          "output_type": "execute_result"
        }
      ],
      "source": [
        "grader.check(\"q2_1_2\")"
      ]
    },
    {
      "cell_type": "markdown",
      "id": "2a9911e4",
      "metadata": {
        "deletable": false,
        "editable": false,
        "id": "2a9911e4"
      },
      "source": [
        "**Question 2.1.3**\n",
        "\n",
        "Define the function `distance_from_python` so that it works as described in its documentation. \n",
        "\n",
        "**Note:** Your solution should not use arithmetic operations directly. Instead, it should make use of existing functionality above!\n",
        "\n",
        "<!--\n",
        "BEGIN QUESTION\n",
        "name: q2_1_3\n",
        "points:\n",
        " - 0\n",
        " - 3\n",
        "-->"
      ]
    },
    {
      "cell_type": "code",
      "execution_count": 182,
      "id": "51924e18",
      "metadata": {
        "colab": {
          "base_uri": "https://localhost:8080/"
        },
        "deletable": false,
        "execution": {
          "iopub.execute_input": "2022-04-16T06:02:07.611267Z",
          "iopub.status.busy": "2022-04-16T06:02:07.610965Z",
          "iopub.status.idle": "2022-04-16T06:02:07.620053Z",
          "shell.execute_reply": "2022-04-16T06:02:07.619200Z"
        },
        "id": "51924e18",
        "outputId": "b97bd9f7-450b-4bd1-83aa-2e46ddeb22f6"
      },
      "outputs": [
        {
          "data": {
            "text/plain": [
              "0.0007983810687227716"
            ]
          },
          "execution_count": 182,
          "metadata": {},
          "output_type": "execute_result"
        }
      ],
      "source": [
        "def distance_from_python(title):\n",
        "    \"\"\"The distance between the given movie and \"monty python and the holy grail\", \n",
        "    based on the features \"water\" and \"feel\".\n",
        "    \n",
        "    This function takes a single argument:\n",
        "      title: A string, the name of a movie.\n",
        "    \"\"\"\n",
        "    \n",
        "    return distance_two_features(title, 'monty python and the holy grail', 'water', 'feel')\n",
        "\n",
        "# Calculate the distance between \"Clerks.\" and \"Monty Python and the Holy Grail\"\n",
        "distance_from_python('clerks.')"
      ]
    },
    {
      "cell_type": "code",
      "execution_count": 183,
      "id": "c6491113",
      "metadata": {
        "colab": {
          "base_uri": "https://localhost:8080/",
          "height": 46
        },
        "deletable": false,
        "editable": false,
        "id": "c6491113",
        "outputId": "b9e8870e-da8e-4d8b-dd65-d7fe390f7a8b"
      },
      "outputs": [
        {
          "data": {
            "text/html": [
              "<p><strong><pre style='display: inline;'>q2_1_3</pre></strong> passed! ✨</p>"
            ],
            "text/plain": [
              "q2_1_3 results: All test cases passed!"
            ]
          },
          "execution_count": 183,
          "metadata": {},
          "output_type": "execute_result"
        }
      ],
      "source": [
        "grader.check(\"q2_1_3\")"
      ]
    },
    {
      "cell_type": "markdown",
      "id": "593761fc",
      "metadata": {
        "deletable": false,
        "editable": false,
        "id": "593761fc"
      },
      "source": [
        "**Question 2.1.4**\n",
        "\n",
        "Using the features `\"water\"` and `\"feel\"`, what are the names and genres of the 5 movies in the **training set** closest to *Monty Python and the Holy Grail*?  To answer this question, make a **dataframe** named `close_movies` containing those 5 movies with columns `\"Title\"`, `\"Genre\"`, `\"water\"`, and `\"feel\"`, as well as a column called `\"distance from python\"` that contains the distance from *Monty Python and the Holy Grail*.  The table should be **sorted in ascending order by `\"distance from python\"`**.\n",
        "\n",
        "*Note:* Why are smaller distances from *Monty Python and the Holy Grail* more helpful in helping us classify the movie?\n",
        "\n",
        "*Hint:* Your final dataframe should only have 5 rows. How can you get the first five rows of a dataframe?\n",
        "\n",
        "\n",
        "<!--\n",
        "BEGIN QUESTION\n",
        "name: q2_1_4\n",
        "points:\n",
        " - 1\n",
        " - 0\n",
        " - 1\n",
        " - 3\n",
        "-->"
      ]
    },
    {
      "cell_type": "code",
      "execution_count": 184,
      "id": "d18beee7",
      "metadata": {
        "id": "d18beee7"
      },
      "outputs": [
        {
          "name": "stdout",
          "output_type": "stream",
          "text": [
            "                        Title     Genre     water      feel  \\\n",
            "256                     alien  thriller  0.000709  0.001241   \n",
            "72        tomorrow never dies  thriller  0.000889  0.000889   \n",
            "225  the silence of the lambs  thriller  0.000596  0.000993   \n",
            "53                 innerspace    comedy  0.000522  0.001044   \n",
            "274          some like it hot    comedy  0.000529  0.000951   \n",
            "\n",
            "     distance from python  \n",
            "256              0.000194  \n",
            "72               0.000202  \n",
            "225              0.000223  \n",
            "53               0.000283  \n",
            "274              0.000301  \n"
          ]
        }
      ],
      "source": [
        "\n",
        "# The staff solution took multiple lines.\n",
        "movies_copy = train_movies.copy()\n",
        "movies_copy[\"distance from python\"] = movies.apply(lambda row: distance_two_features(\"monty python and the holy grail\", row[\"Title\"], \"water\", \"feel\"), axis=1)\n",
        "close_movies = movies_copy.sort_values(\"distance from python\").head(5)[[\"Title\", \"Genre\", \"water\", \"feel\", \"distance from python\"]]\n",
        "\n",
        "print(close_movies.head())"
      ]
    },
    {
      "cell_type": "code",
      "execution_count": 185,
      "id": "9e809d75",
      "metadata": {
        "colab": {
          "base_uri": "https://localhost:8080/",
          "height": 408
        },
        "deletable": false,
        "editable": false,
        "id": "9e809d75",
        "outputId": "73e0967e-5c6b-474f-ae39-a7ac5ff94ce9"
      },
      "outputs": [
        {
          "data": {
            "text/html": [
              "<p><strong><pre style='display: inline;'>q2_1_4</pre></strong> passed! 🍀</p>"
            ],
            "text/plain": [
              "q2_1_4 results: All test cases passed!"
            ]
          },
          "execution_count": 185,
          "metadata": {},
          "output_type": "execute_result"
        }
      ],
      "source": [
        "grader.check(\"q2_1_4\")"
      ]
    },
    {
      "cell_type": "markdown",
      "id": "74b65368",
      "metadata": {
        "deletable": false,
        "editable": false,
        "id": "74b65368"
      },
      "source": [
        "**Question 2.1.5**\n",
        "\n",
        "Next, we'll clasify *Monty Python and the Holy Grail* based on the genres of the closest movies. \n",
        "\n",
        "To do so, define the function `most_common` so that it works as described in its documentation below. \n",
        "\n",
        "<!--\n",
        "BEGIN QUESTION\n",
        "name: q2_1_5\n",
        "points:\n",
        " - 3\n",
        "-->"
      ]
    },
    {
      "cell_type": "code",
      "execution_count": 186,
      "id": "bf8a14a6",
      "metadata": {
        "deletable": false,
        "execution": {
          "iopub.execute_input": "2022-04-16T06:02:08.049732Z",
          "iopub.status.busy": "2022-04-16T06:02:08.049529Z",
          "iopub.status.idle": "2022-04-16T06:02:08.057259Z",
          "shell.execute_reply": "2022-04-16T06:02:08.056530Z"
        },
        "id": "bf8a14a6",
        "scrolled": true
      },
      "outputs": [
        {
          "data": {
            "text/plain": [
              "'thriller'"
            ]
          },
          "execution_count": 186,
          "metadata": {},
          "output_type": "execute_result"
        }
      ],
      "source": [
        "def most_common(df, column):\n",
        "    \"\"\"The most common element in a column of a table.\n",
        "    \n",
        "    This function takes two arguments:\n",
        "      column: The name of a column, a string.\n",
        "      df: dataframe\n",
        "     \n",
        "    It returns the most common value in the label column of the table.\n",
        "    In case of a tie, it returns any one of the most common values.    \n",
        "    \"\"\"\n",
        "\n",
        "    # Count occurrences of each value in the column\n",
        "    counts = df[column].value_counts()\n",
        "\n",
        "    # Get the maximum count\n",
        "    max_count = counts.max()\n",
        "\n",
        "    # Get all values that have the maximum count\n",
        "    most_common_values = counts[counts == max_count].index\n",
        "\n",
        "    # Return any one of the most common values\n",
        "    return most_common_values[0]\n",
        "\n",
        "# Calling most_common on your table of 5 nearest neighbors classifies\n",
        "# \"monty python and the holy grail\" as a thriller movie, 3 votes to 2. \n",
        "most_common(close_movies, 'Genre')"
      ]
    },
    {
      "cell_type": "code",
      "execution_count": 187,
      "id": "54fcca38",
      "metadata": {
        "colab": {
          "base_uri": "https://localhost:8080/",
          "height": 295
        },
        "deletable": false,
        "editable": false,
        "id": "54fcca38",
        "outputId": "4d2bec9b-1ce2-4695-ec2c-bbeddf2abc7e"
      },
      "outputs": [
        {
          "data": {
            "text/html": [
              "<p><strong><pre style='display: inline;'>q2_1_5</pre></strong> passed! 🍀</p>"
            ],
            "text/plain": [
              "q2_1_5 results: All test cases passed!"
            ]
          },
          "execution_count": 187,
          "metadata": {},
          "output_type": "execute_result"
        }
      ],
      "source": [
        "grader.check(\"q2_1_5\")"
      ]
    },
    {
      "cell_type": "markdown",
      "id": "a1efb031",
      "metadata": {
        "id": "a1efb031"
      },
      "source": [
        "Congratulations are in order -- you've classified your first movie! However, we can see that the classifier doesn't work too well since it categorized *Monty Python and the Holy Grail* as a thriller movie (unless you count the thrilling holy hand grenade scene). Let's see if we can do better!"
      ]
    },
    {
      "cell_type": "markdown",
      "id": "1dac1b20",
      "metadata": {
        "id": "1dac1b20"
      },
      "source": [
        "### 3 Add More Features"
      ]
    },
    {
      "cell_type": "markdown",
      "id": "b8beff4a",
      "metadata": {
        "id": "b8beff4a"
      },
      "source": [
        "Now, we're going to extend our classifier to consider more than two features at a time.\n",
        "\n",
        "Euclidean distance still makes sense with more than two features. For `n` different features, we compute the difference between corresponding feature values for two movies, square each of the `n`  differences, sum up the resulting numbers, and take the square root of the sum."
      ]
    },
    {
      "cell_type": "markdown",
      "id": "02d7a2f6",
      "metadata": {
        "deletable": false,
        "editable": false,
        "id": "02d7a2f6"
      },
      "source": [
        "**Question 3.0**\n",
        "\n",
        "Write a function called `distance` to compute the Euclidean distance between two **arrays** of **numerical** features (e.g. arrays of the proportions of times that different words appear). The function should be able to calculate the Euclidean distance between two arrays of arbitrary (but equal) length.\n",
        "\n",
        "Next, use the function you just defined to compute the distance **between the first and second movie** in the **training set** *using all of the features*.  (Remember that the first five columns of your tables are not features.)\n",
        "\n",
        "*Hint:* Make sure to skip the first five columns of the dataframe before you compute `distance_first_to_second`, as these columns do not contain any features (the proportions of words). \n",
        "\n",
        "<!--\n",
        "BEGIN QUESTION\n",
        "name: q3_0\n",
        "points:\n",
        " - 0.5\n",
        " - 0.5\n",
        " - 0\n",
        " - 0.75\n",
        " - 0.75\n",
        " - 0.75\n",
        " - 0.75\n",
        "-->"
      ]
    },
    {
      "cell_type": "code",
      "execution_count": 188,
      "id": "56a977d0",
      "metadata": {
        "deletable": false,
        "execution": {
          "iopub.execute_input": "2022-04-16T06:02:09.005245Z",
          "iopub.status.busy": "2022-04-16T06:02:09.004354Z",
          "iopub.status.idle": "2022-04-16T06:02:11.635856Z",
          "shell.execute_reply": "2022-04-16T06:02:11.635025Z"
        },
        "id": "56a977d0"
      },
      "outputs": [
        {
          "data": {
            "text/plain": [
              "0.03335446890881317"
            ]
          },
          "execution_count": 188,
          "metadata": {},
          "output_type": "execute_result"
        }
      ],
      "source": [
        "def distance(features_array1, features_array2):\n",
        "    \"\"\"The Euclidean distance between two arrays of feature values.\"\"\"\n",
        "    #-------- Error Check----------------\n",
        "    if len(features_array1) != len(features_array2):\n",
        "        raise ValueError(\"Arrays have incompatible lengths\")\n",
        "\n",
        "    \n",
        "    #------ Eucliden Distance Calculations----------------------\n",
        "    diff = features_array1 - features_array2\n",
        "    squared_diff = np.square(diff)\n",
        "    sum_squared_diff = np.sum(squared_diff)\n",
        "    distance = np.sqrt(sum_squared_diff)\n",
        "    \n",
        "    return distance\n",
        "\n",
        "#------------- Trim first 5 columns------------------------------\n",
        "train_movies_counts = train_movies.iloc[:, 5:]\n",
        "#print(train_movies_counts.head())\n",
        "\n",
        "\n",
        "#-------------- Caluclate distance between 1st & 2nd movies in training set ------------\n",
        "distance_first_to_second = distance(train_movies_counts.iloc[0], train_movies_counts.iloc[1])\n",
        "distance_first_to_second"
      ]
    },
    {
      "cell_type": "code",
      "execution_count": 189,
      "id": "96b18c39",
      "metadata": {
        "deletable": false,
        "editable": false,
        "id": "96b18c39"
      },
      "outputs": [
        {
          "data": {
            "text/html": [
              "<p><strong><pre style='display: inline;'>q3_0</pre></strong> passed! 🎉</p>"
            ],
            "text/plain": [
              "q3_0 results: All test cases passed!"
            ]
          },
          "execution_count": 189,
          "metadata": {},
          "output_type": "execute_result"
        }
      ],
      "source": [
        "grader.check(\"q3_0\")"
      ]
    },
    {
      "cell_type": "markdown",
      "id": "45a129fc",
      "metadata": {
        "id": "45a129fc"
      },
      "source": [
        "#### 3.1. Creating your own feature set\n",
        "\n",
        "Unfortunately, using all of the features has some downsides.  One clear downside is the lack of *computational efficiency* -- computing Euclidean distances just takes a long time when we have lots of features.  You might have noticed that in the last question!\n",
        "\n",
        "So in this part, we're going to start with just 10-20.  We'd like to choose features that are very *discriminative*. That is, features which lead us to correctly classify as much of the test set as possible.  This process of choosing features that will make a classifier work well is sometimes called *feature selection*, or, more broadly, *feature engineering*."
      ]
    },
    {
      "cell_type": "markdown",
      "id": "6f677932",
      "metadata": {
        "id": "6f677932"
      },
      "source": [
        "In this question, we will help you get started on selecting more effective features for distinguishing comedy from thriller movies. The plot below (generated for you) shows the average number of times each word occurs in a comedy movie on the horizontal axis and the average number of times it occurs in an thriller movie on the vertical axis. \n",
        "\n",
        "\n",
        "*Note: The line graphed is the line of best fit, NOT the line y=x.*"
      ]
    },
    {
      "cell_type": "markdown",
      "id": "d80de9bd",
      "metadata": {
        "id": "d80de9bd"
      },
      "source": [
        "![word_plot.png](https://github.com/sukhjitsehra/datasets/blob/master/CP322/images/word_plot.png?raw=true)"
      ]
    },
    {
      "cell_type": "markdown",
      "id": "aa6da892",
      "metadata": {
        "deletable": false,
        "editable": false,
        "id": "aa6da892"
      },
      "source": [
        "Questions 3.1.1 through 3.1.4 will ask you to interpret the plot above. For each question, select one of the following choices and assign its number to the provided name.\n",
        "1. The word is common in both comedy and thriller movies \n",
        "2. The word is uncommon in comedy movies and common in thriller movies\n",
        "3. The word is common in comedy movies and uncommon in thriller movies\n",
        "4. The word is uncommon in both comedy and thriller movies\n",
        "5. It is not possible to say from the plot \n",
        "    \n",
        "**Question 3.1.1**\n",
        "\n",
        "What properties do words in the bottom left corner of the plot have? Your answer should be a single integer from 1 to 5, corresponding to the correct statement from the choices above.\n",
        "\n",
        "<!--\n",
        "BEGIN QUESTION\n",
        "name: q3_1_1\n",
        "points:\n",
        " - 0\n",
        " - 1\n",
        "-->"
      ]
    },
    {
      "cell_type": "code",
      "execution_count": 190,
      "id": "cb474905",
      "metadata": {
        "deletable": false,
        "execution": {
          "iopub.execute_input": "2022-04-16T06:02:11.729731Z",
          "iopub.status.busy": "2022-04-16T06:02:11.729405Z",
          "iopub.status.idle": "2022-04-16T06:02:11.733028Z",
          "shell.execute_reply": "2022-04-16T06:02:11.732346Z"
        },
        "id": "cb474905"
      },
      "outputs": [],
      "source": [
        "bottom_left = 4"
      ]
    },
    {
      "cell_type": "code",
      "execution_count": 191,
      "id": "66dfaa40",
      "metadata": {
        "deletable": false,
        "editable": false,
        "id": "66dfaa40"
      },
      "outputs": [
        {
          "data": {
            "text/html": [
              "<p><strong><pre style='display: inline;'>q3_1_1</pre></strong> passed! 🙌</p>"
            ],
            "text/plain": [
              "q3_1_1 results: All test cases passed!"
            ]
          },
          "execution_count": 191,
          "metadata": {},
          "output_type": "execute_result"
        }
      ],
      "source": [
        "grader.check(\"q3_1_1\")"
      ]
    },
    {
      "cell_type": "markdown",
      "id": "a04ab6ab",
      "metadata": {
        "deletable": false,
        "editable": false,
        "id": "a04ab6ab"
      },
      "source": [
        "**Question 3.1.2**\n",
        "\n",
        "What properties do words in the bottom right corner have? Your answer should be a single integer from 1 to 5, corresponding to the correct statement from the choices above.\n",
        "\n",
        "<!--\n",
        "BEGIN QUESTION\n",
        "name: q3_1_2\n",
        "points:\n",
        " - 0\n",
        " - 1\n",
        "-->"
      ]
    },
    {
      "cell_type": "code",
      "execution_count": 192,
      "id": "8b1af4f0",
      "metadata": {
        "deletable": false,
        "execution": {
          "iopub.execute_input": "2022-04-16T06:02:11.752253Z",
          "iopub.status.busy": "2022-04-16T06:02:11.751788Z",
          "iopub.status.idle": "2022-04-16T06:02:11.782950Z",
          "shell.execute_reply": "2022-04-16T06:02:11.782085Z"
        },
        "id": "8b1af4f0"
      },
      "outputs": [],
      "source": [
        "bottom_right = 3"
      ]
    },
    {
      "cell_type": "code",
      "execution_count": 193,
      "id": "ac720f54",
      "metadata": {
        "deletable": false,
        "editable": false,
        "id": "ac720f54"
      },
      "outputs": [
        {
          "data": {
            "text/html": [
              "<p><strong><pre style='display: inline;'>q3_1_2</pre></strong> passed! 🙌</p>"
            ],
            "text/plain": [
              "q3_1_2 results: All test cases passed!"
            ]
          },
          "execution_count": 193,
          "metadata": {},
          "output_type": "execute_result"
        }
      ],
      "source": [
        "grader.check(\"q3_1_2\")"
      ]
    },
    {
      "cell_type": "markdown",
      "id": "9d23a521",
      "metadata": {
        "deletable": false,
        "editable": false,
        "id": "9d23a521"
      },
      "source": [
        "**Question 3.1.3**\n",
        "\n",
        "What properties do words in the top right corner have? Your answer should be a single integer from 1 to 5, corresponding to the correct statement from the choices above.\n",
        "\n",
        "\n",
        "<!--\n",
        "BEGIN QUESTION\n",
        "name: q3_1_3\n",
        "points:\n",
        " - 0\n",
        " - 1\n",
        "-->"
      ]
    },
    {
      "cell_type": "code",
      "execution_count": 194,
      "id": "ee28201e",
      "metadata": {
        "deletable": false,
        "execution": {
          "iopub.execute_input": "2022-04-16T06:02:11.801221Z",
          "iopub.status.busy": "2022-04-16T06:02:11.800743Z",
          "iopub.status.idle": "2022-04-16T06:02:11.804237Z",
          "shell.execute_reply": "2022-04-16T06:02:11.803486Z"
        },
        "id": "ee28201e"
      },
      "outputs": [],
      "source": [
        "top_right = 1"
      ]
    },
    {
      "cell_type": "code",
      "execution_count": 195,
      "id": "3a545251",
      "metadata": {
        "deletable": false,
        "editable": false,
        "id": "3a545251"
      },
      "outputs": [
        {
          "data": {
            "text/html": [
              "<p><strong><pre style='display: inline;'>q3_1_3</pre></strong> passed! 🍀</p>"
            ],
            "text/plain": [
              "q3_1_3 results: All test cases passed!"
            ]
          },
          "execution_count": 195,
          "metadata": {},
          "output_type": "execute_result"
        }
      ],
      "source": [
        "grader.check(\"q3_1_3\")"
      ]
    },
    {
      "cell_type": "markdown",
      "id": "d0491675",
      "metadata": {
        "deletable": false,
        "editable": false,
        "id": "d0491675"
      },
      "source": [
        "**Question 3.1.4**\n",
        "\n",
        "What properties do words in the top left corner have? Your answer should be a single integer from 1 to 5, corresponding to the correct statement from the choices above.\n",
        "\n",
        "\n",
        "<!--\n",
        "BEGIN QUESTION\n",
        "name: q3_1_4\n",
        "points:\n",
        " - 0\n",
        " - 1\n",
        "-->"
      ]
    },
    {
      "cell_type": "code",
      "execution_count": 196,
      "id": "aaf23e5f",
      "metadata": {
        "deletable": false,
        "execution": {
          "iopub.execute_input": "2022-04-16T06:02:11.822238Z",
          "iopub.status.busy": "2022-04-16T06:02:11.822031Z",
          "iopub.status.idle": "2022-04-16T06:02:11.825757Z",
          "shell.execute_reply": "2022-04-16T06:02:11.824971Z"
        },
        "id": "aaf23e5f"
      },
      "outputs": [],
      "source": [
        "top_left = 2"
      ]
    },
    {
      "cell_type": "code",
      "execution_count": 197,
      "id": "68522fdc",
      "metadata": {
        "deletable": false,
        "editable": false,
        "id": "68522fdc"
      },
      "outputs": [
        {
          "data": {
            "text/html": [
              "<p><strong><pre style='display: inline;'>q3_1_4</pre></strong> passed! 🙌</p>"
            ],
            "text/plain": [
              "q3_1_4 results: All test cases passed!"
            ]
          },
          "execution_count": 197,
          "metadata": {},
          "output_type": "execute_result"
        }
      ],
      "source": [
        "grader.check(\"q3_1_4\")"
      ]
    },
    {
      "cell_type": "markdown",
      "id": "97eb4d9d",
      "metadata": {
        "deletable": false,
        "editable": false,
        "id": "97eb4d9d"
      },
      "source": [
        "**Question 3.1.5**\n",
        "\n",
        "If we see a movie with a lot of words that are common for comedy movies but uncommon for thriller movies, what would be a reasonable guess about the genre of the movie? Assign `movie_genre` to the integer corresponding to your answer:\n",
        "1. if it is a thriller movie.\n",
        "2. if it is a comedy movie.\n",
        "\n",
        "<!--\n",
        "BEGIN QUESTION\n",
        "name: q3_1_5\n",
        "points:\n",
        " - 0\n",
        " - 1\n",
        "-->"
      ]
    },
    {
      "cell_type": "code",
      "execution_count": 198,
      "id": "80b457ba",
      "metadata": {
        "deletable": false,
        "execution": {
          "iopub.execute_input": "2022-04-16T06:02:11.846566Z",
          "iopub.status.busy": "2022-04-16T06:02:11.845860Z",
          "iopub.status.idle": "2022-04-16T06:02:11.882544Z",
          "shell.execute_reply": "2022-04-16T06:02:11.881442Z"
        },
        "id": "80b457ba"
      },
      "outputs": [],
      "source": [
        "movie_genre_guess = 2"
      ]
    },
    {
      "cell_type": "code",
      "execution_count": 199,
      "id": "99b1df47",
      "metadata": {
        "deletable": false,
        "editable": false,
        "id": "99b1df47"
      },
      "outputs": [
        {
          "data": {
            "text/html": [
              "<p><strong><pre style='display: inline;'>q3_1_5</pre></strong> passed! ✨</p>"
            ],
            "text/plain": [
              "q3_1_5 results: All test cases passed!"
            ]
          },
          "execution_count": 199,
          "metadata": {},
          "output_type": "execute_result"
        }
      ],
      "source": [
        "grader.check(\"q3_1_5\")"
      ]
    },
    {
      "cell_type": "markdown",
      "id": "93a305bf",
      "metadata": {
        "deletable": false,
        "editable": false,
        "id": "93a305bf"
      },
      "source": [
        "**Question 3.1.6**\n",
        "\n",
        "Using the plot above, make an list of at least 10 common words that you think might let you **distinguish** between comedy and thriller movies. Make sure to choose words that are **frequent enough** that every movie contains at least one of them. Don't just choose the most frequent words though--you can do much better.\n",
        "\n",
        "<!--\n",
        "BEGIN QUESTION\n",
        "name: q3_1_6\n",
        "points:\n",
        " - 0\n",
        " - 0\n",
        " - 0\n",
        " - 1.5\n",
        " - 1.5\n",
        " \n",
        "-->"
      ]
    },
    {
      "cell_type": "code",
      "execution_count": 200,
      "id": "94da845b",
      "metadata": {
        "deletable": false,
        "execution": {
          "iopub.execute_input": "2022-04-16T06:02:11.902115Z",
          "iopub.status.busy": "2022-04-16T06:02:11.901512Z",
          "iopub.status.idle": "2022-04-16T06:02:11.916648Z",
          "shell.execute_reply": "2022-04-16T06:02:11.915701Z"
        },
        "id": "94da845b"
      },
      "outputs": [],
      "source": [
        "# Set my_features to an list (strings that are column labels) e.g. 'i', 'the', 'to', 'a', 'it', 'and', 'that', 'of', 'your', 'what', 'in', 'me', 'is', 'do', 'thi', 'dont', 'he', 'for', 'know'\n",
        "\n",
        "my_features = ['kill', 'oh', 'love', 'dead', 'realli', 'uh', 'mean', 'well', 'think', 'thank']\n",
        "\n",
        "# Select the above features from both the train and test sets\n",
        "train_my_features = train_movies[my_features]\n",
        "test_my_features = test_movies[my_features]\n"
      ]
    },
    {
      "cell_type": "code",
      "execution_count": 201,
      "id": "19dc9013",
      "metadata": {
        "deletable": false,
        "editable": false,
        "id": "19dc9013"
      },
      "outputs": [
        {
          "data": {
            "text/html": [
              "<p><strong><pre style='display: inline;'>q3_1_6</pre></strong> passed! 🙌</p>"
            ],
            "text/plain": [
              "q3_1_6 results: All test cases passed!"
            ]
          },
          "execution_count": 201,
          "metadata": {},
          "output_type": "execute_result"
        }
      ],
      "source": [
        "grader.check(\"q3_1_6\")"
      ]
    },
    {
      "cell_type": "markdown",
      "id": "8170d672",
      "metadata": {
        "id": "8170d672"
      },
      "source": [
        "This test makes sure that you have chosen words such that at least one appears in each movie. If you can't find words that satisfy this test just through intuition, try writing code to print out the titles of movies that do not contain any words from your list, then look at the words they do contain."
      ]
    },
    {
      "cell_type": "markdown",
      "id": "57a20768",
      "metadata": {
        "id": "57a20768"
      },
      "source": [
        "Next, let's classify the first movie from our test set using these features.  You can examine the movie by running the cells below. Do you think it will be classified correctly?"
      ]
    },
    {
      "cell_type": "code",
      "execution_count": 202,
      "id": "bafc0bfc",
      "metadata": {
        "execution": {
          "iopub.execute_input": "2022-04-16T06:02:12.012876Z",
          "iopub.status.busy": "2022-04-16T06:02:12.012647Z",
          "iopub.status.idle": "2022-04-16T06:02:12.038763Z",
          "shell.execute_reply": "2022-04-16T06:02:12.037918Z"
        },
        "id": "bafc0bfc"
      },
      "outputs": [
        {
          "name": "stdout",
          "output_type": "stream",
          "text": [
            "Movie:\n"
          ]
        },
        {
          "data": {
            "text/plain": [
              "Title    ghostbusters ii\n",
              "Genre             comedy\n",
              "Name: 283, dtype: object"
            ]
          },
          "execution_count": 202,
          "metadata": {},
          "output_type": "execute_result"
        }
      ],
      "source": [
        "print(\"Movie:\")\n",
        "test_movies[['Title', 'Genre']].iloc[0]"
      ]
    },
    {
      "cell_type": "code",
      "execution_count": 203,
      "id": "54395691",
      "metadata": {
        "id": "54395691"
      },
      "outputs": [
        {
          "name": "stdout",
          "output_type": "stream",
          "text": [
            "Features:\n"
          ]
        },
        {
          "data": {
            "text/plain": [
              "kill      0.000330\n",
              "oh        0.003132\n",
              "love      0.000824\n",
              "dead      0.000165\n",
              "realli    0.002638\n",
              "uh        0.000165\n",
              "mean      0.000989\n",
              "well      0.003627\n",
              "think     0.005770\n",
              "thank     0.001813\n",
              "Name: 283, dtype: float64"
            ]
          },
          "execution_count": 203,
          "metadata": {},
          "output_type": "execute_result"
        }
      ],
      "source": [
        "print(\"Features:\")\n",
        "test_my_features.iloc[0]"
      ]
    },
    {
      "cell_type": "markdown",
      "id": "cc4d9d17",
      "metadata": {
        "id": "cc4d9d17"
      },
      "source": [
        "As before, we want to look for the movies in the training set that are most like our test movie.  We will calculate the Euclidean distances from the test movie (using `my_features`) to all movies in the training set.  You could do this with a `for` loop, but to make it computationally faster, we have provided a function, `fast_distances`, to do this for you.  Read its documentation to make sure you understand what it does.  (You don't need to understand the code in its body unless you want to.)"
      ]
    },
    {
      "cell_type": "code",
      "execution_count": 204,
      "id": "093918a0",
      "metadata": {
        "id": "093918a0"
      },
      "outputs": [],
      "source": [
        "def fast_distances(test_row, train_df):\n",
        "    assert train_df.shape[1] < 50, \"Make sure you're not using all the features of the movies table.\"\n",
        "    assert type(test_row) != pd.DataFrame, \"Make sure you are passing in a row object to fast_distances.\"\n",
        "    assert len(test_row) == train_df.shape[1], \"Make sure the length of test row is the same as the number of columns in train_table.\"\n",
        "    counts_matrix = train_df.values\n",
        "    diff = np.tile(np.array(test_row), [counts_matrix.shape[0], 1]) - counts_matrix\n",
        "    np.random.seed(0) # For tie breaking purposes\n",
        "    distances = np.squeeze(np.asarray(np.sqrt(np.square(diff).sum(1))))\n",
        "    eps = np.random.uniform(size=distances.shape)*1e-10 #Noise for tie break\n",
        "    distances = distances + eps\n",
        "    return distances"
      ]
    },
    {
      "cell_type": "markdown",
      "id": "e3344ac2",
      "metadata": {
        "deletable": false,
        "editable": false,
        "id": "e3344ac2"
      },
      "source": [
        "**Question 3.1.8**\n",
        "\n",
        "Use the `fast_distances` function provided above to compute the distance from the first movie in your test set to all the movies in your training set, **using your set of features**. Make a new dataframe called `genre_and_distances` with one row for each movie in the training set and two columns:\n",
        "* The `\"Genre\"` of the training movie\n",
        "* The `\"Distance\"` from the first movie in the test set \n",
        "\n",
        "Ensure that `genre_and_distances` is **sorted in ascending order by distance to the first test movie**.\n",
        "\n",
        "*Hint:* Think about how you can use the variables you defined in 3.1.6.\n",
        "\n",
        "<!--\n",
        "BEGIN QUESTION\n",
        "name: q3_1_8\n",
        "points:\n",
        " - 0\n",
        " - 1\n",
        " - 2\n",
        "-->"
      ]
    },
    {
      "cell_type": "code",
      "execution_count": 205,
      "id": "2ab662c5",
      "metadata": {
        "execution": {
          "iopub.execute_input": "2022-04-16T06:02:12.056777Z",
          "iopub.status.busy": "2022-04-16T06:02:12.056576Z",
          "iopub.status.idle": "2022-04-16T06:02:12.087221Z",
          "shell.execute_reply": "2022-04-16T06:02:12.086389Z"
        },
        "for_assignment_type": "solution",
        "id": "2ab662c5"
      },
      "outputs": [],
      "source": [
        "# The staff solution took multiple lines of code.\n",
        "\n",
        "#--------- Get genres & distance to 1st test movie ----------\n",
        "genres = train_movies['Genre']\n",
        "distances = fast_distances(test_my_features.iloc[0],train_my_features)\n",
        "#print(distances)\n",
        "\n",
        "#--------- Create & sort dataframe\n",
        "genre_and_distances = pd.DataFrame({'Genre': genres, 'Distance': distances})\n",
        "genre_and_distances = genre_and_distances.sort_values(by=[\"Distance\"])\n",
        "\n",
        "#print(genre_and_distances.iloc[0:4]) #show sorting\n",
        "#print('Shape: ', genre_and_distances.shape[0]) #show shape "
      ]
    },
    {
      "cell_type": "code",
      "execution_count": 206,
      "id": "ab358c86",
      "metadata": {
        "deletable": false,
        "editable": false,
        "id": "ab358c86"
      },
      "outputs": [
        {
          "data": {
            "text/html": [
              "<p><strong><pre style='display: inline;'>q3_1_8</pre></strong> passed! 💯</p>"
            ],
            "text/plain": [
              "q3_1_8 results: All test cases passed!"
            ]
          },
          "execution_count": 206,
          "metadata": {},
          "output_type": "execute_result"
        }
      ],
      "source": [
        "grader.check(\"q3_1_8\")"
      ]
    },
    {
      "cell_type": "markdown",
      "id": "e4b502fd",
      "metadata": {
        "deletable": false,
        "editable": false,
        "id": "e4b502fd"
      },
      "source": [
        "**Question 3.1.9**\n",
        "\n",
        "Now compute the 7-nearest neighbors classification of the first movie in the test set.  That is, decide on its genre by finding the most common genre among its 7 nearest neighbors in the training set, according to the distances you've calculated.  Then check whether your classifier chose the right genre.  (Depending on the features you chose, your classifier might not get this movie right, and that's okay.)\n",
        "\n",
        "*Hint:* You should use the `most_common` function that was defined earlier and pass first 7 rows of data frame `genre_and_distances`.\n",
        "\n",
        "<!--\n",
        "BEGIN QUESTION\n",
        "name: q3_1_9\n",
        "points:\n",
        " - 1\n",
        " - 1\n",
        "-->"
      ]
    },
    {
      "cell_type": "code",
      "execution_count": 207,
      "id": "b71b7ff7",
      "metadata": {
        "deletable": false,
        "execution": {
          "iopub.execute_input": "2022-04-16T06:02:12.133606Z",
          "iopub.status.busy": "2022-04-16T06:02:12.132924Z",
          "iopub.status.idle": "2022-04-16T06:02:12.140565Z",
          "shell.execute_reply": "2022-04-16T06:02:12.139812Z"
        },
        "id": "b71b7ff7"
      },
      "outputs": [
        {
          "name": "stdout",
          "output_type": "stream",
          "text": [
            "The assigned genre, comedy, was correct.\n"
          ]
        }
      ],
      "source": [
        "# Set my_assigned_genre to the most common genre among these.\n",
        "my_assigned_genre = most_common(genre_and_distances.iloc[0:6],'Genre')\n",
        "\n",
        "# Set my_assigned_genre_was_correct to True if my_assigned_genre\n",
        "# matches the actual genre of the first movie in the test set, False otherwise.\n",
        "my_assigned_genre_was_correct = my_assigned_genre == test_movies.iloc[0]['Genre']\n",
        "\n",
        "print(\"The assigned genre, {}, was{}correct.\".format(my_assigned_genre, \" \" if my_assigned_genre_was_correct else \" not \"))"
      ]
    },
    {
      "cell_type": "code",
      "execution_count": 208,
      "id": "841da5a8",
      "metadata": {
        "deletable": false,
        "editable": false,
        "id": "841da5a8"
      },
      "outputs": [
        {
          "data": {
            "text/html": [
              "<p><strong><pre style='display: inline;'>q3_1_9</pre></strong> passed! 🚀</p>"
            ],
            "text/plain": [
              "q3_1_9 results: All test cases passed!"
            ]
          },
          "execution_count": 208,
          "metadata": {},
          "output_type": "execute_result"
        }
      ],
      "source": [
        "grader.check(\"q3_1_9\")"
      ]
    },
    {
      "cell_type": "markdown",
      "id": "86a9e02e",
      "metadata": {
        "id": "86a9e02e"
      },
      "source": [
        "#### 3.2. A classifier function\n",
        "\n",
        "Now we can write a single function that encapsulates the whole process of classification."
      ]
    },
    {
      "cell_type": "markdown",
      "id": "7d5ce49d",
      "metadata": {
        "deletable": false,
        "editable": false,
        "id": "7d5ce49d"
      },
      "source": [
        "**Question 3.2.1**\n",
        "\n",
        "Write a function called `classify`.  It should take the following four arguments:\n",
        "* A row of features for a movie to classify (e.g., `test_my_features.iloc[0]`).\n",
        "* A dataframe with a column for each feature (e.g., `train_my_features`).\n",
        "* An array of classes (e.g. the labels \"comedy\" or \"thriller\") that has as many items as the previous table has rows, and in the same order. *Hint:* What are the labels of each row in the training set? \n",
        "* `k`, the number of neighbors to use in classification.\n",
        "\n",
        "It should return the class label that a `k`-nearest neighbor classifier picks for the given row of features (the string `'comedy'` or the string `'thriller'`). \n",
        "\n",
        "<!--\n",
        "BEGIN QUESTION\n",
        "name: q3_2_1\n",
        "points:\n",
        " - 1.5\n",
        " - 1.5\n",
        "-->"
      ]
    },
    {
      "cell_type": "code",
      "execution_count": 228,
      "id": "8683d85f",
      "metadata": {
        "deletable": false,
        "execution": {
          "iopub.execute_input": "2022-04-16T06:02:12.193581Z",
          "iopub.status.busy": "2022-04-16T06:02:12.193359Z",
          "iopub.status.idle": "2022-04-16T06:02:12.197839Z",
          "shell.execute_reply": "2022-04-16T06:02:12.197122Z"
        },
        "id": "8683d85f"
      },
      "outputs": [],
      "source": [
        "#print(train_movies.head())\n",
        "def classify(test_row, train_features, train_labels, k):\n",
        "    \"\"\"Return the most common class among k nearest neigbors to test_row.\"\"\"\n",
        "    #------- Find Distances --------------------\n",
        "    distances = fast_distances(test_row, train_features)\n",
        "\n",
        "    #--------- Create DF & sort by distances ------------\n",
        "    genre_and_distances = pd.DataFrame({'Genre': genres, 'Distance': distances})\n",
        "    genre_and_distances = genre_and_distances.sort_values(by=[\"Distance\"])\n",
        "\n",
        "    #--------- Find most common of K neighbours\n",
        "    genre_estimate = most_common(genre_and_distances.iloc[0:k],'Genre')\n",
        "\n",
        "    #print(\"G & D: \", genre_and_distances.head())\n",
        "    #print(\"Genre est: \", genre_estimate)\n",
        "\n",
        "    return genre_estimate"
      ]
    },
    {
      "cell_type": "code",
      "execution_count": 229,
      "id": "1b2c8d2b",
      "metadata": {
        "deletable": false,
        "editable": false,
        "id": "1b2c8d2b"
      },
      "outputs": [
        {
          "data": {
            "text/html": [
              "<p><strong><pre style='display: inline;'>q3_2_1</pre></strong> passed! 🌈</p>"
            ],
            "text/plain": [
              "q3_2_1 results: All test cases passed!"
            ]
          },
          "execution_count": 229,
          "metadata": {},
          "output_type": "execute_result"
        }
      ],
      "source": [
        "grader.check(\"q3_2_1\")"
      ]
    },
    {
      "cell_type": "markdown",
      "id": "1b99e2bd",
      "metadata": {
        "deletable": false,
        "editable": false,
        "id": "1b99e2bd"
      },
      "source": [
        "**Question 3.2.2**\n",
        "\n",
        "Assign `godzilla_genre` to the genre predicted by your classifier for the movie \"godzilla\" in the test set, using **15 neighbors** and using your 10 features. \n",
        "\n",
        "*Hint:* The `row_for_title` function will not work here.\n",
        "\n",
        "<!--\n",
        "BEGIN QUESTION\n",
        "name: q3_2_2\n",
        "points:\n",
        " - 3\n",
        "-->"
      ]
    },
    {
      "cell_type": "code",
      "execution_count": 232,
      "id": "6ec80712",
      "metadata": {
        "deletable": false,
        "execution": {
          "iopub.execute_input": "2022-04-16T06:02:12.251744Z",
          "iopub.status.busy": "2022-04-16T06:02:12.251221Z",
          "iopub.status.idle": "2022-04-16T06:02:12.323447Z",
          "shell.execute_reply": "2022-04-16T06:02:12.322799Z"
        },
        "id": "6ec80712"
      },
      "outputs": [
        {
          "name": "stdout",
          "output_type": "stream",
          "text": [
            "kill      0.001062\n",
            "oh        0.003187\n",
            "love      0.000354\n",
            "dead      0.000354\n",
            "realli    0.001771\n",
            "uh        0.000354\n",
            "mean      0.001771\n",
            "well      0.003895\n",
            "think     0.004603\n",
            "thank     0.001062\n",
            "Name: 319, dtype: float64\n",
            "         kill        oh      love      dead    realli        uh      mean  \\\n",
            "0    0.000398  0.002188  0.000597  0.000398  0.001989  0.000597  0.001790   \n",
            "1    0.000704  0.002394  0.002534  0.000563  0.002816  0.000000  0.002394   \n",
            "2    0.004118  0.004305  0.000936  0.001497  0.000561  0.001310  0.001497   \n",
            "3    0.002316  0.002646  0.001654  0.001323  0.003639  0.000662  0.001985   \n",
            "4    0.002196  0.000366  0.000000  0.001098  0.000732  0.000000  0.000366   \n",
            "..        ...       ...       ...       ...       ...       ...       ...   \n",
            "278  0.000270  0.008495  0.004854  0.000000  0.006068  0.000135  0.001618   \n",
            "279  0.000454  0.003331  0.002726  0.000303  0.002726  0.000909  0.003028   \n",
            "280  0.001096  0.000959  0.002193  0.000685  0.003427  0.000000  0.001645   \n",
            "281  0.002119  0.001348  0.000771  0.000771  0.000578  0.000193  0.001348   \n",
            "282  0.000920  0.003498  0.003866  0.000184  0.002946  0.000000  0.001473   \n",
            "\n",
            "         well     think     thank  \n",
            "0    0.002387  0.005371  0.000199  \n",
            "1    0.003661  0.003943  0.001690  \n",
            "2    0.005615  0.003930  0.000936  \n",
            "3    0.001323  0.002977  0.000992  \n",
            "4    0.000366  0.001464  0.000000  \n",
            "..        ...       ...       ...  \n",
            "278  0.005663  0.004585  0.003236  \n",
            "279  0.003331  0.005148  0.001817  \n",
            "280  0.002467  0.003015  0.002878  \n",
            "281  0.000771  0.004431  0.000193  \n",
            "282  0.005707  0.002393  0.003314  \n",
            "\n",
            "[283 rows x 10 columns]\n",
            "0        comedy\n",
            "1        comedy\n",
            "2      thriller\n",
            "3        comedy\n",
            "4      thriller\n",
            "         ...   \n",
            "278      comedy\n",
            "279    thriller\n",
            "280    thriller\n",
            "281    thriller\n",
            "282      comedy\n",
            "Name: Genre, Length: 283, dtype: object\n"
          ]
        },
        {
          "data": {
            "text/plain": [
              "'comedy'"
            ]
          },
          "execution_count": 232,
          "metadata": {},
          "output_type": "execute_result"
        }
      ],
      "source": [
        "# The staff solution first defined a row called godzilla_features.\n",
        "#-------- Find 'Godzilla' and select features ------------------------------\n",
        "godzilla_features = test_movies[test_movies[\"Title\"] == \"godzilla\"].loc[:,my_features].iloc[0]\n",
        "godzilla_features = godzilla_features[my_features]\n",
        "#print(godzilla_features)\n",
        "#print(train_my_features)\n",
        "#print(train_movies['Genre'])\n",
        "\n",
        "#--------- Use Classify() to identify the genre --------------------------------\n",
        "godzilla_genre = classify(godzilla_features, train_my_features, train_movies['Genre'], 15)\n",
        "godzilla_genre\n",
        "\n",
        "#print(test_movies.head())"
      ]
    },
    {
      "cell_type": "code",
      "execution_count": 231,
      "id": "b745d65c",
      "metadata": {
        "deletable": false,
        "editable": false,
        "id": "b745d65c"
      },
      "outputs": [
        {
          "data": {
            "text/html": [
              "<p><strong style='color: red;'><pre style='display: inline;'>q3_2_2</pre> results:</strong></p><p><strong><pre style='display: inline;'>q3_2_2 - 1</pre> result:</strong></p><pre>    ❌ Test case failed\n",
              "    Trying:\n",
              "        godzilla_genre == 'thriller'\n",
              "    Expecting:\n",
              "        True\n",
              "    **********************************************************************\n",
              "    Line 1, in q3_2_2 0\n",
              "    Failed example:\n",
              "        godzilla_genre == 'thriller'\n",
              "    Expected:\n",
              "        True\n",
              "    Got:\n",
              "        False\n",
              "</pre>"
            ],
            "text/plain": [
              "q3_2_2 results:\n",
              "    q3_2_2 - 1 result:\n",
              "        ❌ Test case failed\n",
              "        Trying:\n",
              "            godzilla_genre == 'thriller'\n",
              "        Expecting:\n",
              "            True\n",
              "        **********************************************************************\n",
              "        Line 1, in q3_2_2 0\n",
              "        Failed example:\n",
              "            godzilla_genre == 'thriller'\n",
              "        Expected:\n",
              "            True\n",
              "        Got:\n",
              "            False"
            ]
          },
          "execution_count": 231,
          "metadata": {},
          "output_type": "execute_result"
        }
      ],
      "source": [
        "grader.check(\"q3_2_2\")"
      ]
    },
    {
      "cell_type": "markdown",
      "id": "a4896619",
      "metadata": {
        "id": "a4896619"
      },
      "source": [
        "Finally, when we evaluate our classifier, it will be useful to have a classification function that is specialized to use a fixed training set and a fixed value of `k`."
      ]
    },
    {
      "cell_type": "markdown",
      "id": "6bd10645",
      "metadata": {
        "deletable": false,
        "editable": false,
        "id": "6bd10645"
      },
      "source": [
        "**Question 3.2.3**\n",
        "\n",
        "Create a classification function that takes as its argument a row containing your 10 features and classifies that row using the 10-nearest neighbors algorithm with `train_my_features` as its training set. \n",
        "\n",
        "<!--\n",
        "BEGIN QUESTION\n",
        "name: q3_2_3\n",
        "points:\n",
        " - 3\n",
        "-->"
      ]
    },
    {
      "cell_type": "code",
      "execution_count": 240,
      "id": "8869b147",
      "metadata": {
        "deletable": false,
        "execution": {
          "iopub.execute_input": "2022-04-16T06:02:12.340963Z",
          "iopub.status.busy": "2022-04-16T06:02:12.340487Z",
          "iopub.status.idle": "2022-04-16T06:02:12.348207Z",
          "shell.execute_reply": "2022-04-16T06:02:12.347536Z"
        },
        "id": "8869b147"
      },
      "outputs": [
        {
          "ename": "KeyError",
          "evalue": "\"None of [Float64Index([0.0003297065611605, 0.0031322123310253, 0.0008242664029014,\\n              0.0001648532805802, 0.0026376524892845, 0.0001648532805802,\\n              0.0009891196834817, 0.0036267721727662, 0.0057698648203099,\\n              0.0018133860863831],\\n             dtype='float64')] are in the [columns]\"",
          "output_type": "error",
          "traceback": [
            "\u001b[1;31m---------------------------------------------------------------------------\u001b[0m",
            "\u001b[1;31mKeyError\u001b[0m                                  Traceback (most recent call last)",
            "\u001b[1;32mc:\\Users\\mitch\\OneDrive\\Desktop\\School Shtuff\\CP322 - Machine learning\\Assignment_3\\Asssignment_3.ipynb Cell 114\u001b[0m in \u001b[0;36m<cell line: 6>\u001b[1;34m()\u001b[0m\n\u001b[0;32m      <a href='vscode-notebook-cell:/c%3A/Users/mitch/OneDrive/Desktop/School%20Shtuff/CP322%20-%20Machine%20learning/Assignment_3/Asssignment_3.ipynb#Y221sZmlsZQ%3D%3D?line=2'>3</a>\u001b[0m     \u001b[39mreturn\u001b[39;00m classify(row[my_features], train_my_features, train_movies[\u001b[39m'\u001b[39m\u001b[39mGenre\u001b[39m\u001b[39m'\u001b[39m], \u001b[39m10\u001b[39m)\n\u001b[0;32m      <a href='vscode-notebook-cell:/c%3A/Users/mitch/OneDrive/Desktop/School%20Shtuff/CP322%20-%20Machine%20learning/Assignment_3/Asssignment_3.ipynb#Y221sZmlsZQ%3D%3D?line=4'>5</a>\u001b[0m \u001b[39m# When you're done, this should produce 'thriller' or 'comedy'.\u001b[39;00m\n\u001b[1;32m----> <a href='vscode-notebook-cell:/c%3A/Users/mitch/OneDrive/Desktop/School%20Shtuff/CP322%20-%20Machine%20learning/Assignment_3/Asssignment_3.ipynb#Y221sZmlsZQ%3D%3D?line=5'>6</a>\u001b[0m classify_feature_row(test_my_features\u001b[39m.\u001b[39;49miloc[\u001b[39m0\u001b[39;49m])\n",
            "\u001b[1;32mc:\\Users\\mitch\\OneDrive\\Desktop\\School Shtuff\\CP322 - Machine learning\\Assignment_3\\Asssignment_3.ipynb Cell 114\u001b[0m in \u001b[0;36mclassify_feature_row\u001b[1;34m(row)\u001b[0m\n\u001b[0;32m      <a href='vscode-notebook-cell:/c%3A/Users/mitch/OneDrive/Desktop/School%20Shtuff/CP322%20-%20Machine%20learning/Assignment_3/Asssignment_3.ipynb#Y221sZmlsZQ%3D%3D?line=0'>1</a>\u001b[0m \u001b[39mdef\u001b[39;00m \u001b[39mclassify_feature_row\u001b[39m(row):\n\u001b[1;32m----> <a href='vscode-notebook-cell:/c%3A/Users/mitch/OneDrive/Desktop/School%20Shtuff/CP322%20-%20Machine%20learning/Assignment_3/Asssignment_3.ipynb#Y221sZmlsZQ%3D%3D?line=1'>2</a>\u001b[0m     row \u001b[39m=\u001b[39m test_movies[row]\u001b[39m.\u001b[39mloc[:,my_features]\u001b[39m.\u001b[39miloc[\u001b[39m0\u001b[39m]\n\u001b[0;32m      <a href='vscode-notebook-cell:/c%3A/Users/mitch/OneDrive/Desktop/School%20Shtuff/CP322%20-%20Machine%20learning/Assignment_3/Asssignment_3.ipynb#Y221sZmlsZQ%3D%3D?line=2'>3</a>\u001b[0m     \u001b[39mreturn\u001b[39;00m classify(row[my_features], train_my_features, train_movies[\u001b[39m'\u001b[39m\u001b[39mGenre\u001b[39m\u001b[39m'\u001b[39m], \u001b[39m10\u001b[39m)\n",
            "File \u001b[1;32mc:\\Users\\mitch\\anaconda3\\lib\\site-packages\\pandas\\core\\frame.py:3511\u001b[0m, in \u001b[0;36mDataFrame.__getitem__\u001b[1;34m(self, key)\u001b[0m\n\u001b[0;32m   3509\u001b[0m     \u001b[39mif\u001b[39;00m is_iterator(key):\n\u001b[0;32m   3510\u001b[0m         key \u001b[39m=\u001b[39m \u001b[39mlist\u001b[39m(key)\n\u001b[1;32m-> 3511\u001b[0m     indexer \u001b[39m=\u001b[39m \u001b[39mself\u001b[39;49m\u001b[39m.\u001b[39;49mcolumns\u001b[39m.\u001b[39;49m_get_indexer_strict(key, \u001b[39m\"\u001b[39;49m\u001b[39mcolumns\u001b[39;49m\u001b[39m\"\u001b[39;49m)[\u001b[39m1\u001b[39m]\n\u001b[0;32m   3513\u001b[0m \u001b[39m# take() does not accept boolean indexers\u001b[39;00m\n\u001b[0;32m   3514\u001b[0m \u001b[39mif\u001b[39;00m \u001b[39mgetattr\u001b[39m(indexer, \u001b[39m\"\u001b[39m\u001b[39mdtype\u001b[39m\u001b[39m\"\u001b[39m, \u001b[39mNone\u001b[39;00m) \u001b[39m==\u001b[39m \u001b[39mbool\u001b[39m:\n",
            "File \u001b[1;32mc:\\Users\\mitch\\anaconda3\\lib\\site-packages\\pandas\\core\\indexes\\base.py:5782\u001b[0m, in \u001b[0;36mIndex._get_indexer_strict\u001b[1;34m(self, key, axis_name)\u001b[0m\n\u001b[0;32m   5779\u001b[0m \u001b[39melse\u001b[39;00m:\n\u001b[0;32m   5780\u001b[0m     keyarr, indexer, new_indexer \u001b[39m=\u001b[39m \u001b[39mself\u001b[39m\u001b[39m.\u001b[39m_reindex_non_unique(keyarr)\n\u001b[1;32m-> 5782\u001b[0m \u001b[39mself\u001b[39;49m\u001b[39m.\u001b[39;49m_raise_if_missing(keyarr, indexer, axis_name)\n\u001b[0;32m   5784\u001b[0m keyarr \u001b[39m=\u001b[39m \u001b[39mself\u001b[39m\u001b[39m.\u001b[39mtake(indexer)\n\u001b[0;32m   5785\u001b[0m \u001b[39mif\u001b[39;00m \u001b[39misinstance\u001b[39m(key, Index):\n\u001b[0;32m   5786\u001b[0m     \u001b[39m# GH 42790 - Preserve name from an Index\u001b[39;00m\n",
            "File \u001b[1;32mc:\\Users\\mitch\\anaconda3\\lib\\site-packages\\pandas\\core\\indexes\\base.py:5842\u001b[0m, in \u001b[0;36mIndex._raise_if_missing\u001b[1;34m(self, key, indexer, axis_name)\u001b[0m\n\u001b[0;32m   5840\u001b[0m     \u001b[39mif\u001b[39;00m use_interval_msg:\n\u001b[0;32m   5841\u001b[0m         key \u001b[39m=\u001b[39m \u001b[39mlist\u001b[39m(key)\n\u001b[1;32m-> 5842\u001b[0m     \u001b[39mraise\u001b[39;00m \u001b[39mKeyError\u001b[39;00m(\u001b[39mf\u001b[39m\u001b[39m\"\u001b[39m\u001b[39mNone of [\u001b[39m\u001b[39m{\u001b[39;00mkey\u001b[39m}\u001b[39;00m\u001b[39m] are in the [\u001b[39m\u001b[39m{\u001b[39;00maxis_name\u001b[39m}\u001b[39;00m\u001b[39m]\u001b[39m\u001b[39m\"\u001b[39m)\n\u001b[0;32m   5844\u001b[0m not_found \u001b[39m=\u001b[39m \u001b[39mlist\u001b[39m(ensure_index(key)[missing_mask\u001b[39m.\u001b[39mnonzero()[\u001b[39m0\u001b[39m]]\u001b[39m.\u001b[39munique())\n\u001b[0;32m   5845\u001b[0m \u001b[39mraise\u001b[39;00m \u001b[39mKeyError\u001b[39;00m(\u001b[39mf\u001b[39m\u001b[39m\"\u001b[39m\u001b[39m{\u001b[39;00mnot_found\u001b[39m}\u001b[39;00m\u001b[39m not in index\u001b[39m\u001b[39m\"\u001b[39m)\n",
            "\u001b[1;31mKeyError\u001b[0m: \"None of [Float64Index([0.0003297065611605, 0.0031322123310253, 0.0008242664029014,\\n              0.0001648532805802, 0.0026376524892845, 0.0001648532805802,\\n              0.0009891196834817, 0.0036267721727662, 0.0057698648203099,\\n              0.0018133860863831],\\n             dtype='float64')] are in the [columns]\""
          ]
        }
      ],
      "source": [
        "def classify_feature_row(row):\n",
        "    row = test_movies[row].loc[:,my_features].iloc[0]\n",
        "    return classify(row[my_features], train_my_features, train_movies['Genre'], 10)\n",
        "\n",
        "# When you're done, this should produce 'thriller' or 'comedy'.\n",
        "classify_feature_row(test_my_features.iloc[0])"
      ]
    },
    {
      "cell_type": "code",
      "execution_count": null,
      "id": "504e6b12",
      "metadata": {
        "deletable": false,
        "editable": false,
        "id": "504e6b12"
      },
      "outputs": [
        {
          "data": {
            "text/html": [
              "<p><strong><pre style='display: inline;'>q3_2_3</pre></strong> passed! ✨</p>"
            ],
            "text/plain": [
              "q3_2_3 results: All test cases passed!"
            ]
          },
          "execution_count": 234,
          "metadata": {},
          "output_type": "execute_result"
        }
      ],
      "source": [
        "grader.check(\"q3_2_3\")"
      ]
    },
    {
      "cell_type": "markdown",
      "id": "6be6239f",
      "metadata": {
        "id": "6be6239f"
      },
      "source": [
        "#### 3.3. Evaluating your classifier"
      ]
    },
    {
      "cell_type": "markdown",
      "id": "9a4e131c",
      "metadata": {
        "deletable": false,
        "editable": false,
        "id": "9a4e131c"
      },
      "source": [
        "Now that it's easy to use the classifier, let's see how accurate it is on the whole test set.\n",
        "\n",
        "**Question 3.3.1**\n",
        "\n",
        "Use `classify_feature_row` and `apply` to classify every movie in the test set.  Assign these guesses as an array to `test_guesses`.  Then, compute the proportion of correct classifications.\n",
        "\n",
        "*Hint*: Which dataset do you want to apply this function to?\n",
        "\n",
        "<!--\n",
        "BEGIN QUESTION\n",
        "name: q3_3_1\n",
        "points:\n",
        " - 0\n",
        " - 3\n",
        "-->"
      ]
    },
    {
      "cell_type": "code",
      "execution_count": 235,
      "id": "6e408d10",
      "metadata": {
        "deletable": false,
        "execution": {
          "iopub.execute_input": "2022-04-16T06:02:12.412664Z",
          "iopub.status.busy": "2022-04-16T06:02:12.412028Z",
          "iopub.status.idle": "2022-04-16T06:02:12.495073Z",
          "shell.execute_reply": "2022-04-16T06:02:12.494218Z"
        },
        "id": "6e408d10"
      },
      "outputs": [
        {
          "ename": "TypeError",
          "evalue": "loop of ufunc does not support argument 0 of type float which has no callable sqrt method",
          "output_type": "error",
          "traceback": [
            "\u001b[1;31m---------------------------------------------------------------------------\u001b[0m",
            "\u001b[1;31mAttributeError\u001b[0m                            Traceback (most recent call last)",
            "\u001b[1;31mAttributeError\u001b[0m: 'float' object has no attribute 'sqrt'",
            "\nThe above exception was the direct cause of the following exception:\n",
            "\u001b[1;31mTypeError\u001b[0m                                 Traceback (most recent call last)",
            "\u001b[1;32mc:\\Users\\mitch\\OneDrive\\Desktop\\School Shtuff\\CP322 - Machine learning\\Assignment_3\\Asssignment_3.ipynb Cell 118\u001b[0m in \u001b[0;36m<cell line: 1>\u001b[1;34m()\u001b[0m\n\u001b[1;32m----> <a href='vscode-notebook-cell:/c%3A/Users/mitch/OneDrive/Desktop/School%20Shtuff/CP322%20-%20Machine%20learning/Assignment_3/Asssignment_3.ipynb#Y225sZmlsZQ%3D%3D?line=0'>1</a>\u001b[0m test_guesses \u001b[39m=\u001b[39m test_movies\u001b[39m.\u001b[39;49mapply(classify_feature_row, axis \u001b[39m=\u001b[39;49m \u001b[39m1\u001b[39;49m)\n\u001b[0;32m      <a href='vscode-notebook-cell:/c%3A/Users/mitch/OneDrive/Desktop/School%20Shtuff/CP322%20-%20Machine%20learning/Assignment_3/Asssignment_3.ipynb#Y225sZmlsZQ%3D%3D?line=2'>3</a>\u001b[0m correct \u001b[39m=\u001b[39m test_movies[\u001b[39m'\u001b[39m\u001b[39mGenre\u001b[39m\u001b[39m'\u001b[39m] \u001b[39m==\u001b[39m test_guesses \u001b[39m#create an array with 1 for match and 0 for fail\u001b[39;00m\n\u001b[0;32m      <a href='vscode-notebook-cell:/c%3A/Users/mitch/OneDrive/Desktop/School%20Shtuff/CP322%20-%20Machine%20learning/Assignment_3/Asssignment_3.ipynb#Y225sZmlsZQ%3D%3D?line=3'>4</a>\u001b[0m proportion_correct \u001b[39m=\u001b[39m \u001b[39msum\u001b[39m(correct) \u001b[39m/\u001b[39m \u001b[39mlen\u001b[39m(correct)\n",
            "File \u001b[1;32mc:\\Users\\mitch\\anaconda3\\lib\\site-packages\\pandas\\core\\frame.py:8839\u001b[0m, in \u001b[0;36mDataFrame.apply\u001b[1;34m(self, func, axis, raw, result_type, args, **kwargs)\u001b[0m\n\u001b[0;32m   8828\u001b[0m \u001b[39mfrom\u001b[39;00m \u001b[39mpandas\u001b[39;00m\u001b[39m.\u001b[39;00m\u001b[39mcore\u001b[39;00m\u001b[39m.\u001b[39;00m\u001b[39mapply\u001b[39;00m \u001b[39mimport\u001b[39;00m frame_apply\n\u001b[0;32m   8830\u001b[0m op \u001b[39m=\u001b[39m frame_apply(\n\u001b[0;32m   8831\u001b[0m     \u001b[39mself\u001b[39m,\n\u001b[0;32m   8832\u001b[0m     func\u001b[39m=\u001b[39mfunc,\n\u001b[1;32m   (...)\u001b[0m\n\u001b[0;32m   8837\u001b[0m     kwargs\u001b[39m=\u001b[39mkwargs,\n\u001b[0;32m   8838\u001b[0m )\n\u001b[1;32m-> 8839\u001b[0m \u001b[39mreturn\u001b[39;00m op\u001b[39m.\u001b[39;49mapply()\u001b[39m.\u001b[39m__finalize__(\u001b[39mself\u001b[39m, method\u001b[39m=\u001b[39m\u001b[39m\"\u001b[39m\u001b[39mapply\u001b[39m\u001b[39m\"\u001b[39m)\n",
            "File \u001b[1;32mc:\\Users\\mitch\\anaconda3\\lib\\site-packages\\pandas\\core\\apply.py:727\u001b[0m, in \u001b[0;36mFrameApply.apply\u001b[1;34m(self)\u001b[0m\n\u001b[0;32m    724\u001b[0m \u001b[39melif\u001b[39;00m \u001b[39mself\u001b[39m\u001b[39m.\u001b[39mraw:\n\u001b[0;32m    725\u001b[0m     \u001b[39mreturn\u001b[39;00m \u001b[39mself\u001b[39m\u001b[39m.\u001b[39mapply_raw()\n\u001b[1;32m--> 727\u001b[0m \u001b[39mreturn\u001b[39;00m \u001b[39mself\u001b[39;49m\u001b[39m.\u001b[39;49mapply_standard()\n",
            "File \u001b[1;32mc:\\Users\\mitch\\anaconda3\\lib\\site-packages\\pandas\\core\\apply.py:851\u001b[0m, in \u001b[0;36mFrameApply.apply_standard\u001b[1;34m(self)\u001b[0m\n\u001b[0;32m    850\u001b[0m \u001b[39mdef\u001b[39;00m \u001b[39mapply_standard\u001b[39m(\u001b[39mself\u001b[39m):\n\u001b[1;32m--> 851\u001b[0m     results, res_index \u001b[39m=\u001b[39m \u001b[39mself\u001b[39;49m\u001b[39m.\u001b[39;49mapply_series_generator()\n\u001b[0;32m    853\u001b[0m     \u001b[39m# wrap results\u001b[39;00m\n\u001b[0;32m    854\u001b[0m     \u001b[39mreturn\u001b[39;00m \u001b[39mself\u001b[39m\u001b[39m.\u001b[39mwrap_results(results, res_index)\n",
            "File \u001b[1;32mc:\\Users\\mitch\\anaconda3\\lib\\site-packages\\pandas\\core\\apply.py:867\u001b[0m, in \u001b[0;36mFrameApply.apply_series_generator\u001b[1;34m(self)\u001b[0m\n\u001b[0;32m    864\u001b[0m \u001b[39mwith\u001b[39;00m option_context(\u001b[39m\"\u001b[39m\u001b[39mmode.chained_assignment\u001b[39m\u001b[39m\"\u001b[39m, \u001b[39mNone\u001b[39;00m):\n\u001b[0;32m    865\u001b[0m     \u001b[39mfor\u001b[39;00m i, v \u001b[39min\u001b[39;00m \u001b[39menumerate\u001b[39m(series_gen):\n\u001b[0;32m    866\u001b[0m         \u001b[39m# ignore SettingWithCopy here in case the user mutates\u001b[39;00m\n\u001b[1;32m--> 867\u001b[0m         results[i] \u001b[39m=\u001b[39m \u001b[39mself\u001b[39;49m\u001b[39m.\u001b[39;49mf(v)\n\u001b[0;32m    868\u001b[0m         \u001b[39mif\u001b[39;00m \u001b[39misinstance\u001b[39m(results[i], ABCSeries):\n\u001b[0;32m    869\u001b[0m             \u001b[39m# If we have a view on v, we need to make a copy because\u001b[39;00m\n\u001b[0;32m    870\u001b[0m             \u001b[39m#  series_generator will swap out the underlying data\u001b[39;00m\n\u001b[0;32m    871\u001b[0m             results[i] \u001b[39m=\u001b[39m results[i]\u001b[39m.\u001b[39mcopy(deep\u001b[39m=\u001b[39m\u001b[39mFalse\u001b[39;00m)\n",
            "\u001b[1;32mc:\\Users\\mitch\\OneDrive\\Desktop\\School Shtuff\\CP322 - Machine learning\\Assignment_3\\Asssignment_3.ipynb Cell 118\u001b[0m in \u001b[0;36mclassify_feature_row\u001b[1;34m(row)\u001b[0m\n\u001b[0;32m      <a href='vscode-notebook-cell:/c%3A/Users/mitch/OneDrive/Desktop/School%20Shtuff/CP322%20-%20Machine%20learning/Assignment_3/Asssignment_3.ipynb#Y225sZmlsZQ%3D%3D?line=0'>1</a>\u001b[0m \u001b[39mdef\u001b[39;00m \u001b[39mclassify_feature_row\u001b[39m(row):\n\u001b[1;32m----> <a href='vscode-notebook-cell:/c%3A/Users/mitch/OneDrive/Desktop/School%20Shtuff/CP322%20-%20Machine%20learning/Assignment_3/Asssignment_3.ipynb#Y225sZmlsZQ%3D%3D?line=1'>2</a>\u001b[0m     \u001b[39mreturn\u001b[39;00m classify(row[my_features], train_my_features, train_movies[\u001b[39m'\u001b[39;49m\u001b[39mGenre\u001b[39;49m\u001b[39m'\u001b[39;49m], \u001b[39m10\u001b[39;49m)\n",
            "\u001b[1;32mc:\\Users\\mitch\\OneDrive\\Desktop\\School Shtuff\\CP322 - Machine learning\\Assignment_3\\Asssignment_3.ipynb Cell 118\u001b[0m in \u001b[0;36mclassify\u001b[1;34m(test_row, train_features, train_labels, k)\u001b[0m\n\u001b[0;32m      <a href='vscode-notebook-cell:/c%3A/Users/mitch/OneDrive/Desktop/School%20Shtuff/CP322%20-%20Machine%20learning/Assignment_3/Asssignment_3.ipynb#Y225sZmlsZQ%3D%3D?line=2'>3</a>\u001b[0m \u001b[39m\"\"\"Return the most common class among k nearest neigbors to test_row.\"\"\"\u001b[39;00m\n\u001b[0;32m      <a href='vscode-notebook-cell:/c%3A/Users/mitch/OneDrive/Desktop/School%20Shtuff/CP322%20-%20Machine%20learning/Assignment_3/Asssignment_3.ipynb#Y225sZmlsZQ%3D%3D?line=3'>4</a>\u001b[0m \u001b[39m#------- Find Distances --------------------\u001b[39;00m\n\u001b[1;32m----> <a href='vscode-notebook-cell:/c%3A/Users/mitch/OneDrive/Desktop/School%20Shtuff/CP322%20-%20Machine%20learning/Assignment_3/Asssignment_3.ipynb#Y225sZmlsZQ%3D%3D?line=4'>5</a>\u001b[0m distances \u001b[39m=\u001b[39m fast_distances(test_row, train_features)\n\u001b[0;32m      <a href='vscode-notebook-cell:/c%3A/Users/mitch/OneDrive/Desktop/School%20Shtuff/CP322%20-%20Machine%20learning/Assignment_3/Asssignment_3.ipynb#Y225sZmlsZQ%3D%3D?line=6'>7</a>\u001b[0m \u001b[39m#--------- Create DF & sort by distances ------------\u001b[39;00m\n\u001b[0;32m      <a href='vscode-notebook-cell:/c%3A/Users/mitch/OneDrive/Desktop/School%20Shtuff/CP322%20-%20Machine%20learning/Assignment_3/Asssignment_3.ipynb#Y225sZmlsZQ%3D%3D?line=7'>8</a>\u001b[0m genre_and_distances \u001b[39m=\u001b[39m pd\u001b[39m.\u001b[39mDataFrame({\u001b[39m'\u001b[39m\u001b[39mGenre\u001b[39m\u001b[39m'\u001b[39m: genres, \u001b[39m'\u001b[39m\u001b[39mDistance\u001b[39m\u001b[39m'\u001b[39m: distances})\n",
            "\u001b[1;32mc:\\Users\\mitch\\OneDrive\\Desktop\\School Shtuff\\CP322 - Machine learning\\Assignment_3\\Asssignment_3.ipynb Cell 118\u001b[0m in \u001b[0;36mfast_distances\u001b[1;34m(test_row, train_df)\u001b[0m\n\u001b[0;32m      <a href='vscode-notebook-cell:/c%3A/Users/mitch/OneDrive/Desktop/School%20Shtuff/CP322%20-%20Machine%20learning/Assignment_3/Asssignment_3.ipynb#Y225sZmlsZQ%3D%3D?line=5'>6</a>\u001b[0m diff \u001b[39m=\u001b[39m np\u001b[39m.\u001b[39mtile(np\u001b[39m.\u001b[39marray(test_row), [counts_matrix\u001b[39m.\u001b[39mshape[\u001b[39m0\u001b[39m], \u001b[39m1\u001b[39m]) \u001b[39m-\u001b[39m counts_matrix\n\u001b[0;32m      <a href='vscode-notebook-cell:/c%3A/Users/mitch/OneDrive/Desktop/School%20Shtuff/CP322%20-%20Machine%20learning/Assignment_3/Asssignment_3.ipynb#Y225sZmlsZQ%3D%3D?line=6'>7</a>\u001b[0m np\u001b[39m.\u001b[39mrandom\u001b[39m.\u001b[39mseed(\u001b[39m0\u001b[39m) \u001b[39m# For tie breaking purposes\u001b[39;00m\n\u001b[1;32m----> <a href='vscode-notebook-cell:/c%3A/Users/mitch/OneDrive/Desktop/School%20Shtuff/CP322%20-%20Machine%20learning/Assignment_3/Asssignment_3.ipynb#Y225sZmlsZQ%3D%3D?line=7'>8</a>\u001b[0m distances \u001b[39m=\u001b[39m np\u001b[39m.\u001b[39msqueeze(np\u001b[39m.\u001b[39masarray(np\u001b[39m.\u001b[39;49msqrt(np\u001b[39m.\u001b[39;49msquare(diff)\u001b[39m.\u001b[39;49msum(\u001b[39m1\u001b[39;49m))))\n\u001b[0;32m      <a href='vscode-notebook-cell:/c%3A/Users/mitch/OneDrive/Desktop/School%20Shtuff/CP322%20-%20Machine%20learning/Assignment_3/Asssignment_3.ipynb#Y225sZmlsZQ%3D%3D?line=8'>9</a>\u001b[0m eps \u001b[39m=\u001b[39m np\u001b[39m.\u001b[39mrandom\u001b[39m.\u001b[39muniform(size\u001b[39m=\u001b[39mdistances\u001b[39m.\u001b[39mshape)\u001b[39m*\u001b[39m\u001b[39m1e-10\u001b[39m \u001b[39m#Noise for tie break\u001b[39;00m\n\u001b[0;32m     <a href='vscode-notebook-cell:/c%3A/Users/mitch/OneDrive/Desktop/School%20Shtuff/CP322%20-%20Machine%20learning/Assignment_3/Asssignment_3.ipynb#Y225sZmlsZQ%3D%3D?line=9'>10</a>\u001b[0m distances \u001b[39m=\u001b[39m distances \u001b[39m+\u001b[39m eps\n",
            "\u001b[1;31mTypeError\u001b[0m: loop of ufunc does not support argument 0 of type float which has no callable sqrt method"
          ]
        }
      ],
      "source": [
        "test_guesses = test_movies.apply(classify_feature_row, axis = 1)\n",
        "\n",
        "correct = test_movies['Genre'] == test_guesses #create an array with 1 for match and 0 for fail\n",
        "proportion_correct = sum(correct) / len(correct) #sum = number of matches, len = total guesses"
      ]
    },
    {
      "cell_type": "code",
      "execution_count": 236,
      "id": "5383901c",
      "metadata": {
        "deletable": false,
        "editable": false,
        "id": "5383901c"
      },
      "outputs": [
        {
          "data": {
            "text/html": [
              "<p><strong style='color: red;'><pre style='display: inline;'>q3_3_1</pre> results:</strong></p><p><strong><pre style='display: inline;'>q3_3_1 - 1</pre> result:</strong></p><pre>    ❌ Test case failed\n",
              "    Trying:\n",
              "        0 <= proportion_correct <= 1\n",
              "    Expecting:\n",
              "        True\n",
              "    **********************************************************************\n",
              "    Line 1, in q3_3_1 0\n",
              "    Failed example:\n",
              "        0 <= proportion_correct <= 1\n",
              "    Exception raised:\n",
              "        Traceback (most recent call last):\n",
              "          File \"c:\\Users\\mitch\\anaconda3\\lib\\doctest.py\", line 1334, in __run\n",
              "            exec(compile(example.source, filename, \"single\",\n",
              "          File \"<doctest q3_3_1 0[0]>\", line 1, in <module>\n",
              "            0 <= proportion_correct <= 1\n",
              "        NameError: name 'proportion_correct' is not defined\n",
              "</pre>"
            ],
            "text/plain": [
              "q3_3_1 results:\n",
              "    q3_3_1 - 1 result:\n",
              "        ❌ Test case failed\n",
              "        Trying:\n",
              "            0 <= proportion_correct <= 1\n",
              "        Expecting:\n",
              "            True\n",
              "        **********************************************************************\n",
              "        Line 1, in q3_3_1 0\n",
              "        Failed example:\n",
              "            0 <= proportion_correct <= 1\n",
              "        Exception raised:\n",
              "            Traceback (most recent call last):\n",
              "              File \"c:\\Users\\mitch\\anaconda3\\lib\\doctest.py\", line 1334, in __run\n",
              "                exec(compile(example.source, filename, \"single\",\n",
              "              File \"<doctest q3_3_1 0[0]>\", line 1, in <module>\n",
              "                0 <= proportion_correct <= 1\n",
              "            NameError: name 'proportion_correct' is not defined"
            ]
          },
          "execution_count": 236,
          "metadata": {},
          "output_type": "execute_result"
        }
      ],
      "source": [
        "grader.check(\"q3_3_1\")"
      ]
    },
    {
      "cell_type": "markdown",
      "id": "2a7508eb",
      "metadata": {
        "deletable": false,
        "editable": false,
        "id": "2a7508eb"
      },
      "source": [
        "**Question 3.3.2** \n",
        "\n",
        "An important part of evaluating your classifiers is figuring out where they make mistakes. Assign the name `test_movie_correctness` to a table with three columns, `'Title'`, `'Genre'`, and `'Was correct'`. \n",
        "\n",
        "- The `'Genre'` column should contain the original genres, not the ones you predicted. \n",
        "- The `'Was correct'` column should contain `True` or `False` depending on whether or not the movie was classified correctly.\n",
        "\n",
        "<!--\n",
        "BEGIN QUESTION\n",
        "name: q3_3_2\n",
        "points:\n",
        " - 2\n",
        "-->"
      ]
    },
    {
      "cell_type": "code",
      "execution_count": 111,
      "id": "adb93768",
      "metadata": {
        "deletable": false,
        "execution": {
          "iopub.execute_input": "2022-04-16T06:02:12.514816Z",
          "iopub.status.busy": "2022-04-16T06:02:12.514626Z",
          "iopub.status.idle": "2022-04-16T06:02:13.858922Z",
          "shell.execute_reply": "2022-04-16T06:02:13.858246Z"
        },
        "for_assignment_type": "student",
        "id": "adb93768",
        "manual_problem_id": "test_movie_correctness"
      },
      "outputs": [
        {
          "ename": "AttributeError",
          "evalue": "'ellipsis' object has no attribute 'head'",
          "output_type": "error",
          "traceback": [
            "\u001b[1;31m---------------------------------------------------------------------------\u001b[0m",
            "\u001b[1;31mAttributeError\u001b[0m                            Traceback (most recent call last)",
            "\u001b[1;32mc:\\Users\\mitch\\OneDrive\\Desktop\\School Shtuff\\CP322 - Machine learning\\Assignment_3\\Asssignment_3.ipynb Cell 121\u001b[0m in \u001b[0;36m<cell line: 4>\u001b[1;34m()\u001b[0m\n\u001b[0;32m      <a href='vscode-notebook-cell:/c%3A/Users/mitch/OneDrive/Desktop/School%20Shtuff/CP322%20-%20Machine%20learning/Assignment_3/Asssignment_3.ipynb#Y231sZmlsZQ%3D%3D?line=0'>1</a>\u001b[0m \u001b[39m# Feel free to use multiple lines of code\u001b[39;00m\n\u001b[0;32m      <a href='vscode-notebook-cell:/c%3A/Users/mitch/OneDrive/Desktop/School%20Shtuff/CP322%20-%20Machine%20learning/Assignment_3/Asssignment_3.ipynb#Y231sZmlsZQ%3D%3D?line=1'>2</a>\u001b[0m \u001b[39m# but make sure to assign test_movie_correctness to the proper table!\u001b[39;00m\n\u001b[0;32m      <a href='vscode-notebook-cell:/c%3A/Users/mitch/OneDrive/Desktop/School%20Shtuff/CP322%20-%20Machine%20learning/Assignment_3/Asssignment_3.ipynb#Y231sZmlsZQ%3D%3D?line=2'>3</a>\u001b[0m test_movie_correctness \u001b[39m=\u001b[39m \u001b[39m.\u001b[39m\u001b[39m.\u001b[39m\u001b[39m.\u001b[39m\n\u001b[1;32m----> <a href='vscode-notebook-cell:/c%3A/Users/mitch/OneDrive/Desktop/School%20Shtuff/CP322%20-%20Machine%20learning/Assignment_3/Asssignment_3.ipynb#Y231sZmlsZQ%3D%3D?line=3'>4</a>\u001b[0m \u001b[39mprint\u001b[39m(test_movie_correctness\u001b[39m.\u001b[39;49mhead(\u001b[39m5\u001b[39m))\n",
            "\u001b[1;31mAttributeError\u001b[0m: 'ellipsis' object has no attribute 'head'"
          ]
        }
      ],
      "source": [
        "# Feel free to use multiple lines of code\n",
        "# but make sure to assign test_movie_correctness to the proper table!\n",
        "test_movie_correctness = ...\n",
        "print(test_movie_correctness.head(5))"
      ]
    },
    {
      "cell_type": "code",
      "execution_count": 112,
      "id": "b52b85d4",
      "metadata": {
        "deletable": false,
        "editable": false,
        "id": "b52b85d4"
      },
      "outputs": [
        {
          "data": {
            "text/html": [
              "<p><strong style='color: red;'><pre style='display: inline;'>q3_3_2</pre> results:</strong></p><p><strong><pre style='display: inline;'>q3_3_2 - 1</pre> result:</strong></p><pre>    ❌ Test case failed\n",
              "    Trying:\n",
              "        assert test_movie_correctness.shape[0] == test_movies.shape[0]\n",
              "    Expecting nothing\n",
              "    **********************************************************************\n",
              "    Line 1, in q3_3_2 0\n",
              "    Failed example:\n",
              "        assert test_movie_correctness.shape[0] == test_movies.shape[0]\n",
              "    Exception raised:\n",
              "        Traceback (most recent call last):\n",
              "          File \"c:\\Users\\mitch\\anaconda3\\lib\\doctest.py\", line 1334, in __run\n",
              "            exec(compile(example.source, filename, \"single\",\n",
              "          File \"<doctest q3_3_2 0[0]>\", line 1, in <module>\n",
              "            assert test_movie_correctness.shape[0] == test_movies.shape[0]\n",
              "        AttributeError: 'ellipsis' object has no attribute 'shape'\n",
              "</pre>"
            ],
            "text/plain": [
              "q3_3_2 results:\n",
              "    q3_3_2 - 1 result:\n",
              "        ❌ Test case failed\n",
              "        Trying:\n",
              "            assert test_movie_correctness.shape[0] == test_movies.shape[0]\n",
              "        Expecting nothing\n",
              "        **********************************************************************\n",
              "        Line 1, in q3_3_2 0\n",
              "        Failed example:\n",
              "            assert test_movie_correctness.shape[0] == test_movies.shape[0]\n",
              "        Exception raised:\n",
              "            Traceback (most recent call last):\n",
              "              File \"c:\\Users\\mitch\\anaconda3\\lib\\doctest.py\", line 1334, in __run\n",
              "                exec(compile(example.source, filename, \"single\",\n",
              "              File \"<doctest q3_3_2 0[0]>\", line 1, in <module>\n",
              "                assert test_movie_correctness.shape[0] == test_movies.shape[0]\n",
              "            AttributeError: 'ellipsis' object has no attribute 'shape'"
            ]
          },
          "execution_count": 112,
          "metadata": {},
          "output_type": "execute_result"
        }
      ],
      "source": [
        "grader.check(\"q3_3_2\")"
      ]
    },
    {
      "cell_type": "markdown",
      "id": "07cb5edc",
      "metadata": {
        "deletable": false,
        "editable": false,
        "id": "07cb5edc"
      },
      "source": [
        "<!-- BEGIN QUESTION -->\n",
        "\n",
        "**Question 3.3.3 (Manually Graded)** \n",
        "\n",
        "Do you see a pattern in the types of movies your classifier misclassifies? In two sentences or less, describe any patterns you see in the results or any other interesting findings from the table above. If you need some help, try looking up the movies that your classifier got wrong on Wikipedia. \n",
        "\n",
        "<!--\n",
        "BEGIN QUESTION\n",
        "name: q3_3_3\n",
        "manual: true\n",
        "-->"
      ]
    },
    {
      "cell_type": "markdown",
      "id": "decd90ad",
      "metadata": {
        "id": "decd90ad"
      },
      "source": [
        "_Type your answer here, replacing this text._"
      ]
    },
    {
      "cell_type": "markdown",
      "id": "02d5d11b",
      "metadata": {
        "id": "02d5d11b"
      },
      "source": [
        "<!-- END QUESTION -->\n",
        "\n",
        "\n",
        "\n",
        "At this point, you've gone through one cycle of classifier design.  Let's summarize the steps:\n",
        "1. From available data, select test and training sets.\n",
        "2. Choose an algorithm you're going to use for k-NN classification.\n",
        "3. Identify some features.\n",
        "4. Define a classifier function using your features and the training set.\n",
        "5. Evaluate its performance (the proportion of correct classifications) on the test set."
      ]
    },
    {
      "cell_type": "markdown",
      "id": "7a0f4ba4",
      "metadata": {
        "id": "7a0f4ba4"
      },
      "source": [
        "## Working with all features (Using Sklearn)"
      ]
    },
    {
      "cell_type": "markdown",
      "id": "36685aa6",
      "metadata": {
        "id": "36685aa6"
      },
      "source": [
        "Let's deep dive to fit the classficiation knn and random forest model on all predictors of the movies data set. "
      ]
    },
    {
      "cell_type": "code",
      "execution_count": 121,
      "id": "548aadc2",
      "metadata": {
        "id": "548aadc2"
      },
      "outputs": [],
      "source": [
        "X = movies.drop(columns=movies.columns[np.arange(5)], axis=1)\n",
        "y = movies[\"Genre\"]"
      ]
    },
    {
      "cell_type": "markdown",
      "id": "981ba025",
      "metadata": {
        "deletable": false,
        "editable": false,
        "id": "981ba025"
      },
      "source": [
        "**Question 4.1.1** \n",
        "\n",
        "Complete the following Python class (named `KNN`) as per the docstrings mentioned to fit, predict, and evaluate the model's score. The `fit()` must have an option to perform hyperparameter tuning. The optimal values should be used such that the model accuracy must be more than `80%`. \n",
        "<!--\n",
        "BEGIN QUESTION\n",
        "name: q4_1_1\n",
        "points:\n",
        " - 10\n",
        "-->"
      ]
    },
    {
      "cell_type": "code",
      "execution_count": 122,
      "id": "a7d819e7",
      "metadata": {
        "id": "a7d819e7"
      },
      "outputs": [],
      "source": [
        "class KNN:\n",
        "    def __init__(self, X, y, n_neighbors=5, test_size=0.2, random_state=42):\n",
        "        \"\"\"\n",
        "        Initialize the KNN classifier.\n",
        "\n",
        "        Parameters:\n",
        "        -----------\n",
        "            X (pandas.DataFrame): The feature matrix of shape (n_samples, n_features).\n",
        "            y (pandas.Series): The target vector of shape (n_samples,).\n",
        "            n_neighbors (int, optional): The number of nearest neighbors to use in classification. Defaults to 5.\n",
        "            test_size (float, optional): The proportion of samples to use for testing. Defaults to 0.2.\n",
        "            random_state (int, optional): The random state to use for splitting the data. Defaults to 42.\n",
        "        \"\"\"\n",
        "        #Split test + training & assign model\n",
        "        self.X_train, self.X_test, self.y_train, self.y_test = train_test_split(X, y, test_size=test_size, random_state=random_state) \n",
        "        self.model = KNeighborsClassifier(n_neighbors)\n",
        "\n",
        "        #Init now, will use later\n",
        "        self.best_params = None\n",
        "        self.best_score = None\n",
        "        \n",
        "    def fit(self, tune_fit=\"no\"):\n",
        "        \"\"\"\n",
        "        Fit the KNN model to the training data.\n",
        "\n",
        "        Parameters:\n",
        "        -----------\n",
        "            tune_fit (str, optional): Whether to perform hyperparameter tuning. If \"yes\", performs a grid search to find\n",
        "                the best hyperparameters. Defaults to \"no\".\n",
        "\n",
        "        Raises:\n",
        "        -----------\n",
        "            ValueError: If `tune_fit` is not \"yes\" or \"no\".\n",
        "\n",
        "        Returns:\n",
        "        -----------\n",
        "            None\n",
        "        \"\"\"\n",
        "        if tune_fit==\"yes\": \n",
        "            # Define hyperparameters\n",
        "            param_grid = {\n",
        "                'n_neighbors': [3, 5, 7, 9, 11, 13, 15, 17, 19],\n",
        "                'weights': ['uniform', 'distance']\n",
        "            }\n",
        "            \n",
        "            # Grid search over hyperparameters\n",
        "            grid_search = GridSearchCV(self.model, param_grid, cv=5)\n",
        "            grid_search.fit(self.X_train, self.y_train)\n",
        "            \n",
        "            # Set best hyperparameters & their corresponding score and assing model to best_estimator\n",
        "            self.best_params = grid_search.best_params_\n",
        "            self.best_score = grid_search.best_score_\n",
        "            self.model = grid_search.best_estimator_\n",
        "\n",
        "        elif tune_fit==\"no\":\n",
        "            # Fit model without tuning\n",
        "            self.model.fit(self.X_train, self.y_train)\n",
        "\n",
        "        else:\n",
        "            # Error if not yes or no\n",
        "            raise ValueError(\"Invalid value for `tune_fit`. Must be either 'yes' or 'no'.\")\n",
        "        \n",
        "    def predict(self):\n",
        "        \"\"\"\n",
        "        Predict the target values for the test data.\n",
        "\n",
        "        Parameters:\n",
        "        -----------\n",
        "        None\n",
        "\n",
        "        Returns:\n",
        "        -----------\n",
        "            numpy.ndarray: The predicted target values of shape (n_samples,)\n",
        "        \"\"\"\n",
        "        return self.model.predict(self.X_test)\n",
        "    \n",
        "    def score(self):\n",
        "        \"\"\"\n",
        "        Calculate the accuracy score and classification report for the KNN model.\n",
        "\n",
        "        Parameters:\n",
        "        -----------\n",
        "        None\n",
        "\n",
        "        Returns:\n",
        "        -----------\n",
        "        accuracy score: The ratio of the correctly predicted observations to the total observations.\n",
        "        \n",
        "        classification report: A text report of the main classification metrics such as precision, recall, f1-score and support for each class.\n",
        "        \"\"\"\n",
        "\n",
        "        y_pred = self.model.predict(self.X_test)\n",
        "        accuracy = accuracy_score(self.y_test, y_pred)\n",
        "        classification_report = metrics.classification_report(self.y_test, y_pred)\n",
        "        return accuracy, classification_report\n"
      ]
    },
    {
      "cell_type": "code",
      "execution_count": 133,
      "id": "30fbd651",
      "metadata": {
        "deletable": false,
        "editable": false,
        "id": "30fbd651"
      },
      "outputs": [
        {
          "data": {
            "text/html": [
              "<p><strong><pre style='display: inline;'>q4_1_1</pre></strong> passed! 🎉</p>"
            ],
            "text/plain": [
              "q4_1_1 results: All test cases passed!"
            ]
          },
          "execution_count": 133,
          "metadata": {},
          "output_type": "execute_result"
        }
      ],
      "source": [
        "grader.check(\"q4_1_1\")"
      ]
    },
    {
      "cell_type": "markdown",
      "id": "ca53d2e4",
      "metadata": {
        "deletable": false,
        "editable": false,
        "id": "ca53d2e4"
      },
      "source": [
        "**Question 4.1.2** \n",
        "\n",
        "Use the `KNN` class to fit, predict and report the accuracy, precision and recall of the model. \n",
        "<!--\n",
        "BEGIN QUESTION\n",
        "name: q4_1_2\n",
        "points:\n",
        " - 0\n",
        " - 3\n",
        " - 0\n",
        "-->"
      ]
    },
    {
      "cell_type": "code",
      "execution_count": 136,
      "id": "a2769a31",
      "metadata": {
        "id": "a2769a31"
      },
      "outputs": [
        {
          "name": "stdout",
          "output_type": "stream",
          "text": [
            "The accuracy achieved by knn model: 0.6567164179104478\n",
            "############################################################\n",
            "The classification report of knn model: \n",
            "               precision    recall  f1-score   support\n",
            "\n",
            "      comedy       0.46      0.85      0.60        20\n",
            "    thriller       0.90      0.57      0.70        47\n",
            "\n",
            "    accuracy                           0.66        67\n",
            "   macro avg       0.68      0.71      0.65        67\n",
            "weighted avg       0.77      0.66      0.67        67\n",
            "\n"
          ]
        }
      ],
      "source": [
        "knn = KNN(X, y) #init\n",
        "fit_knn = knn.fit() #fit\n",
        "pred_knn = knn.predict() #predict\n",
        "accuracy_knn, classification_report_knn = knn.score() #report\n",
        "\n",
        "print(\"The accuracy achieved by knn model:\", accuracy_knn) \n",
        "print('#'*60)\n",
        "print(\"The classification report of knn model: \\n\", classification_report_knn)"
      ]
    },
    {
      "cell_type": "code",
      "execution_count": 137,
      "id": "55539147",
      "metadata": {
        "deletable": false,
        "editable": false,
        "id": "55539147"
      },
      "outputs": [
        {
          "data": {
            "text/html": [
              "<p><strong style='color: red;'><pre style='display: inline;'>q4_1_2</pre> results:</strong></p><p><strong><pre style='display: inline;'>q4_1_2 - 1</pre> result:</strong></p><pre>    ❌ Test case failed\n",
              "    Trying:\n",
              "        accuracy_knn >= .82\n",
              "    Expecting:\n",
              "        True\n",
              "    **********************************************************************\n",
              "    Line 1, in q4_1_2 0\n",
              "    Failed example:\n",
              "        accuracy_knn >= .82\n",
              "    Expected:\n",
              "        True\n",
              "    Got:\n",
              "        False\n",
              "</pre><p><strong><pre style='display: inline;'>q4_1_2 - 2</pre> result:</strong></p><pre>    ❌ Test case failed\n",
              "    Trying:\n",
              "        fit_knn is not None\n",
              "    Expecting:\n",
              "        True\n",
              "    **********************************************************************\n",
              "    Line 1, in q4_1_2 1\n",
              "    Failed example:\n",
              "        fit_knn is not None\n",
              "    Expected:\n",
              "        True\n",
              "    Got:\n",
              "        False\n",
              "</pre>"
            ],
            "text/plain": [
              "q4_1_2 results:\n",
              "    q4_1_2 - 1 result:\n",
              "        ❌ Test case failed\n",
              "        Trying:\n",
              "            accuracy_knn >= .82\n",
              "        Expecting:\n",
              "            True\n",
              "        **********************************************************************\n",
              "        Line 1, in q4_1_2 0\n",
              "        Failed example:\n",
              "            accuracy_knn >= .82\n",
              "        Expected:\n",
              "            True\n",
              "        Got:\n",
              "            False\n",
              "\n",
              "    q4_1_2 - 2 result:\n",
              "        ❌ Test case failed\n",
              "        Trying:\n",
              "            fit_knn is not None\n",
              "        Expecting:\n",
              "            True\n",
              "        **********************************************************************\n",
              "        Line 1, in q4_1_2 1\n",
              "        Failed example:\n",
              "            fit_knn is not None\n",
              "        Expected:\n",
              "            True\n",
              "        Got:\n",
              "            False"
            ]
          },
          "execution_count": 137,
          "metadata": {},
          "output_type": "execute_result"
        }
      ],
      "source": [
        "grader.check(\"q4_1_2\")"
      ]
    },
    {
      "cell_type": "markdown",
      "id": "3c4b8636",
      "metadata": {
        "deletable": false,
        "editable": false,
        "id": "3c4b8636"
      },
      "source": [
        "**Question 4.2.1** \n",
        "\n",
        "Complete the following Python class (named `RandomForest`) as per the docstrings mentioned to fit, predict, and evaluate the model's score. The `fit()` must have an option to perform hyperparameter tuning. The optimal values should be used such that the model accuracy must be more than `83%`. \n",
        "<!--\n",
        "BEGIN QUESTION\n",
        "name: q4_2_1\n",
        "points:\n",
        " - 10\n",
        "-->"
      ]
    },
    {
      "cell_type": "code",
      "execution_count": 143,
      "id": "6cb9a3e8",
      "metadata": {
        "id": "6cb9a3e8"
      },
      "outputs": [],
      "source": [
        "from sklearn.tree import plot_tree\n",
        "\n",
        "class RandomForest:\n",
        "    def __init__(self, X, y, random_state=RANDOM_STATE):\n",
        "        \"\"\"Initializes the RandomForest class with the input features X and target variable y,\n",
        "        and the random state used for reproducibility.\n",
        "\n",
        "        Parameters:\n",
        "        -----------\n",
        "        X : pandas.DataFrame\n",
        "            The input feature matrix of shape (n_samples, n_features).\n",
        "        y : pandas.Series\n",
        "            The target variable of shape (n_samples,).\n",
        "        random_state : int, default=RANDOM_STATE, which is 42\n",
        "            The seed value for random number generator used to split the data.\n",
        "\n",
        "        Returns:\n",
        "        --------\n",
        "        None\"\"\"\n",
        "        self.X = X\n",
        "        self.y = y\n",
        "        self.random_state = random_state\n",
        "        self.model = RandomForestClassifier(random_state=self.random_state)\n",
        "        self.best_params = {} \n",
        "        self.best_score = 0 \n",
        "        self.X_train, self.X_test, self.y_train, self.y_test = train_test_split(self.X, self.y, test_size=0.2, random_state=random_state)\n",
        "    \n",
        "    def fit(self, tune_fit=\"yes\"):\n",
        "        \"\"\"Trains the random forest model using the input data X and y.\n",
        "        If tune_fit is set to \"yes\", it tunes the hyperparameters using GridSearchCV(), otherwise, with default parameters.\n",
        "        It then stores the best hyperparameters and best estimator in the attributes best_params and model, respectively.\n",
        "\n",
        "        Parameters:\n",
        "        -----------\n",
        "        tune_fit : str, default=\"yes\"\n",
        "            If \"yes\", tune the hyperparameters using GridSearchCV(), otherwise use default parameters.\n",
        "\n",
        "        Returns:\n",
        "        --------\n",
        "        None\n",
        "        \"\"\"\n",
        "\n",
        "        if tune_fit==\"yes\":\n",
        "            #identitfy tuning parameters\n",
        "            param_grid = {\n",
        "            'n_estimators': [50, 100, 150, 200],\n",
        "            'max_depth': [3, 5, 7, None],\n",
        "            'max_features': ['auto', 'sqrt'],\n",
        "            'min_samples_leaf': [1, 2, 4],\n",
        "            'bootstrap': [True, False]\n",
        "        }\n",
        "            #grid search & set best params + best_estimator \n",
        "            grid_search =GridSearchCV(self.model, param_grid, cv=5, n_jobs=-1)\n",
        "            grid_search.fit(self.X_train, self.y_train)\n",
        "            self.best_params = grid_search.best_params_\n",
        "            self.model = grid_search.best_estimator_\n",
        "        \n",
        "        else: \n",
        "            #no tuning - just fit\n",
        "            self.model.fit(self.X_train, self.y_train)\n",
        "            \n",
        "    def predict(self):\n",
        "        \"\"\"Predicts the target variable of the test data using the trained random forest model.\n",
        "        Returns the predicted target variable values.\n",
        "\n",
        "        Parameters:\n",
        "        -----------\n",
        "        None\n",
        "\n",
        "        Returns:\n",
        "        --------\n",
        "        numpy.ndarray: The predicted target variable values\n",
        "        \n",
        "        \"\"\"\n",
        "\n",
        "        self.model.predict(self.X_test)\n",
        "    \n",
        "    def score(self):\n",
        "        \"\"\"Computes the accuracy score and classification report for the predicted target variable and the actual test target variable.\n",
        "\n",
        "        Parameters:\n",
        "        -----------\n",
        "        None\n",
        "\n",
        "        Returns:\n",
        "        --------\n",
        "        accuracy score: The ratio of the correctly predicted observations to the total observations.\n",
        "        \n",
        "        classification report: A text report of the main classification metrics such as precision, recall, f1-score and support for each class.\"\"\"\n",
        "        \n",
        "        y_pred = self.model.predict(self.X_test)\n",
        "        accuracy = accuracy_score(self.y_test, y_pred)\n",
        "        classification_report = metrics.classification_report(self.y_test, y_pred)\n",
        "        return accuracy, classification_report\n",
        "    \n",
        "    def plot_decision_tree(self):\n",
        "        \"\"\"Plots the first decision tree in the trained random forest model.\n",
        "        Parameters:\n",
        "        -----------\n",
        "        None\n",
        "\n",
        "        Returns:\n",
        "        -------- \n",
        "        None\n",
        "        \"\"\"\n",
        "\n",
        "        # Extract the first tree from the forest\n",
        "        estimator = self.model.estimators_[0] \n",
        "\n",
        "        # Plot the decision tree\n",
        "        plt.figure(figsize=(12, 8)) \n",
        "        plot_tree(estimator, filled=True) \n",
        "        plt.draw() \n",
        "    \n",
        "    def plot_feature_importance(self, top=10):\n",
        "        \"\"\"Plots a horizontal bar chart of the top (by default 10) important features in the random forest model.\n",
        "\n",
        "        Parameters:\n",
        "        -----------\n",
        "        top: The number of top important features to display. Default is 10.\n",
        "\n",
        "        Returns: \n",
        "        -----------\n",
        "        None\"\"\"\n",
        "        importances = self.model.feature_importances_\n",
        "        indices = np.argsort(importances)[::-1]\n",
        "        plt.title(\"Feature Importance\")\n",
        "        plt.barh(range(top), importances[indices[:top]], align='center')\n",
        "        plt.yticks(range(top), [self.X.columns[i] for i in indices[:top]])\n",
        "        plt.xlabel(\"Relative Importance\")\n",
        "        plt.draw()"
      ]
    },
    {
      "cell_type": "code",
      "execution_count": 144,
      "id": "ff543522",
      "metadata": {
        "deletable": false,
        "editable": false,
        "id": "ff543522"
      },
      "outputs": [
        {
          "data": {
            "text/html": [
              "<p><strong style='color: red;'><pre style='display: inline;'>q4_2_1</pre> results:</strong></p><p><strong><pre style='display: inline;'>q4_2_1 - 1</pre> result:</strong></p><pre>    ❌ Test case failed\n",
              "    Trying:\n",
              "        fit_rf_t = RandomForest(X,y) \n",
              "    Expecting nothing\n",
              "    ok\n",
              "    Trying:\n",
              "        fit_rf_t.fit(tune_fit=\"yes\")\n",
              "    Expecting nothing\n",
              "    ok\n",
              "    Trying:\n",
              "        pred_rf = fit_rf_t.predict() \n",
              "    Expecting nothing\n",
              "    ok\n",
              "    Trying:\n",
              "        assert fit_rf_t.model is not None\n",
              "    Expecting nothing\n",
              "    ok\n",
              "    Trying:\n",
              "        assert fit_rf_t.best_params != {}\n",
              "    Expecting nothing\n",
              "    ok\n",
              "    Trying:\n",
              "        assert isinstance(pred_rf, np.ndarray)\n",
              "    Expecting nothing\n",
              "    **********************************************************************\n",
              "    Line 7, in q4_2_1 0\n",
              "    Failed example:\n",
              "        assert isinstance(pred_rf, np.ndarray)\n",
              "    Exception raised:\n",
              "        Traceback (most recent call last):\n",
              "          File \"c:\\Users\\mitch\\anaconda3\\lib\\doctest.py\", line 1334, in __run\n",
              "            exec(compile(example.source, filename, \"single\",\n",
              "          File \"<doctest q4_2_1 0[5]>\", line 1, in <module>\n",
              "            assert isinstance(pred_rf, np.ndarray)\n",
              "        AssertionError\n",
              "    Trying:\n",
              "        assert len(pred_knn) == len(fit_rf_t.y_test)\n",
              "    Expecting nothing\n",
              "    ok\n",
              "    Trying:\n",
              "        accuracy, report = fit_rf_t.score()\n",
              "    Expecting nothing\n",
              "    ok\n",
              "    Trying:\n",
              "        assert isinstance(report, str)\n",
              "    Expecting nothing\n",
              "    ok\n",
              "    Trying:\n",
              "        assert accuracy >= 0 and accuracy <= 1\n",
              "    Expecting nothing\n",
              "    ok\n",
              "</pre>"
            ],
            "text/plain": [
              "q4_2_1 results:\n",
              "    q4_2_1 - 1 result:\n",
              "        ❌ Test case failed\n",
              "        Trying:\n",
              "            fit_rf_t = RandomForest(X,y) \n",
              "        Expecting nothing\n",
              "        ok\n",
              "        Trying:\n",
              "            fit_rf_t.fit(tune_fit=\"yes\")\n",
              "        Expecting nothing\n",
              "        ok\n",
              "        Trying:\n",
              "            pred_rf = fit_rf_t.predict() \n",
              "        Expecting nothing\n",
              "        ok\n",
              "        Trying:\n",
              "            assert fit_rf_t.model is not None\n",
              "        Expecting nothing\n",
              "        ok\n",
              "        Trying:\n",
              "            assert fit_rf_t.best_params != {}\n",
              "        Expecting nothing\n",
              "        ok\n",
              "        Trying:\n",
              "            assert isinstance(pred_rf, np.ndarray)\n",
              "        Expecting nothing\n",
              "        **********************************************************************\n",
              "        Line 7, in q4_2_1 0\n",
              "        Failed example:\n",
              "            assert isinstance(pred_rf, np.ndarray)\n",
              "        Exception raised:\n",
              "            Traceback (most recent call last):\n",
              "              File \"c:\\Users\\mitch\\anaconda3\\lib\\doctest.py\", line 1334, in __run\n",
              "                exec(compile(example.source, filename, \"single\",\n",
              "              File \"<doctest q4_2_1 0[5]>\", line 1, in <module>\n",
              "                assert isinstance(pred_rf, np.ndarray)\n",
              "            AssertionError\n",
              "        Trying:\n",
              "            assert len(pred_knn) == len(fit_rf_t.y_test)\n",
              "        Expecting nothing\n",
              "        ok\n",
              "        Trying:\n",
              "            accuracy, report = fit_rf_t.score()\n",
              "        Expecting nothing\n",
              "        ok\n",
              "        Trying:\n",
              "            assert isinstance(report, str)\n",
              "        Expecting nothing\n",
              "        ok\n",
              "        Trying:\n",
              "            assert accuracy >= 0 and accuracy <= 1\n",
              "        Expecting nothing\n",
              "        ok"
            ]
          },
          "execution_count": 144,
          "metadata": {},
          "output_type": "execute_result"
        }
      ],
      "source": [
        "grader.check(\"q4_2_1\")"
      ]
    },
    {
      "cell_type": "markdown",
      "id": "a44d6f46",
      "metadata": {
        "deletable": false,
        "editable": false,
        "id": "a44d6f46"
      },
      "source": [
        "**Question 4.2.2** \n",
        "\n",
        "Use the `RandomForest` class to fit, predict and report the accuracy, precision and recall of the model on movies dataset (X, y). \n",
        "<!--\n",
        "BEGIN QUESTION\n",
        "name: q4_2_2\n",
        "points:\n",
        " - 3\n",
        " - 0\n",
        "-->"
      ]
    },
    {
      "cell_type": "code",
      "execution_count": null,
      "id": "eb3ec7ae",
      "metadata": {
        "id": "eb3ec7ae"
      },
      "outputs": [],
      "source": [
        "fit_rf = ...\n",
        "...\n",
        "...\n",
        "...\n",
        "print(\"The accuracy achieved by random forest model:\", accuracy_rf)\n",
        "print('#'*60)\n",
        "print(\"The classification report of random forest model: \\n\", classification_report_rf)\n",
        "fit_rf.plot_decision_tree()\n",
        "fit_rf.plot_feature_importance(top=10)"
      ]
    },
    {
      "cell_type": "code",
      "execution_count": null,
      "id": "19471fb0",
      "metadata": {
        "deletable": false,
        "editable": false,
        "id": "19471fb0"
      },
      "outputs": [],
      "source": [
        "grader.check(\"q4_2_2\")"
      ]
    },
    {
      "cell_type": "markdown",
      "id": "2a4df3b3",
      "metadata": {
        "deletable": false,
        "editable": false,
        "id": "2a4df3b3"
      },
      "source": [
        "<!-- BEGIN QUESTION -->\n",
        "\n",
        "**Question 4.3.1 (Maually Graded)** \n",
        "\n",
        "1. Which model is better in terms of accuracy? \n",
        "2. Which model has the highest recall score and why?\n",
        "3. What can you infer about the performance of the two models based on their precision and recall scores?\n",
        "4. How do the precision, recall, and F1 scores change when the hyper-parameters of the KNN and Random Forest models are tuned?\n",
        "5. How do the precision, recall, and F1 scores vary when the KNN model is trained on different values of k or when the Random Forest model is trained on a different number of decision trees?\n",
        "\n",
        "<!--\n",
        "BEGIN QUESTION\n",
        "name: q4_3_1\n",
        "manual: true\n",
        "points: 10\n",
        "-->"
      ]
    },
    {
      "cell_type": "raw",
      "id": "b53bae95",
      "metadata": {
        "id": "b53bae95"
      },
      "source": [
        "..."
      ]
    },
    {
      "cell_type": "markdown",
      "id": "a9eabae8",
      "metadata": {
        "deletable": false,
        "editable": false,
        "id": "a9eabae8"
      },
      "source": [
        "<!-- END QUESTION -->\n",
        "\n",
        "<!-- BEGIN QUESTION -->\n",
        "\n",
        "**Question 4.3.2 (Maually Graded)** \n",
        "\n",
        "1. How did you tune the hyperparameters of the KNN and Random Forest algorithms, and what was the effect of hyperparameter tuning on the performance of the classification algorithm?\n",
        "\n",
        "2. Can you explain the decision boundary of the classification algorithm for the movie genre classification problem? How does the decision boundary change with different values of k in the KNN algorithm, or with different number of decision trees in the Random Forest algorithm?\n",
        "   \n",
        "3. If the data used to train the KNN and Random Forest models was imbalanced such that one class had significantly fewer samples than the others, which model would be more effective at correctly identifying samples from the underrepresented class based on the recall score, and why?\n",
        "\n",
        "4. How would the precision, recall, and F1 scores for the KNN and Random Forest models change if a new class was added to the classification problem, and why?\n",
        "\n",
        "5. How does the number of decision trees used in the Random Forest model impact the precision and recall scores, and what is the optimal number of decision trees to use based on the given classification report?\n",
        "   \n",
        "\n",
        "<!--\n",
        "BEGIN QUESTION\n",
        "name: q4_3_2\n",
        "manual: true\n",
        "points: 10\n",
        "-->"
      ]
    },
    {
      "cell_type": "raw",
      "id": "2bd29bb1",
      "metadata": {
        "id": "2bd29bb1"
      },
      "source": [
        "..."
      ]
    }
  ],
  "metadata": {
    "colab": {
      "provenance": []
    },
    "kernelspec": {
      "display_name": "Python 3 (ipykernel)",
      "language": "python",
      "name": "python3"
    },
    "language_info": {
      "codemirror_mode": {
        "name": "ipython",
        "version": 3
      },
      "file_extension": ".py",
      "mimetype": "text/x-python",
      "name": "python",
      "nbconvert_exporter": "python",
      "pygments_lexer": "ipython3",
      "version": "3.9.12"
    },
    "vscode": {
      "interpreter": {
        "hash": "11053374b51b9ba60f923be4d4dab668503bcfab244429af3685fde87844d07a"
      }
    }
  },
  "nbformat": 4,
  "nbformat_minor": 5
}
